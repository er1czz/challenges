{
 "cells": [
  {
   "cell_type": "markdown",
   "metadata": {},
   "source": [
    "# Unordered Singly Linked List\n",
    "\n",
    "- Can only access at the head\n",
    "- Add new items as the head and all old items become trailing nodes\n",
    "- Removal takes 2 pointers, current and previous\n",
    "- Removal is a bitch and requires \"inchworming\" your way forward, never back\n",
    "- All traversals will eventually end in self.next == None"
   ]
  },
  {
   "cell_type": "code",
   "execution_count": 1,
   "metadata": {},
   "outputs": [],
   "source": [
    "class Node:\n",
    "    def __init__(self, initdata):\n",
    "        self.data = initdata\n",
    "        self.next = None\n",
    "        \n",
    "    def getData(self):\n",
    "        return self.data\n",
    "    \n",
    "    def getNext(self):\n",
    "        return self.next\n",
    "    \n",
    "    def setData (self, new_data):\n",
    "        self.data = new_data\n",
    "        \n",
    "    def setNext (self, new_next):\n",
    "        self.next = new_next\n",
    "\n",
    "        "
   ]
  },
  {
   "cell_type": "code",
   "execution_count": 151,
   "metadata": {},
   "outputs": [],
   "source": [
    "class ul:\n",
    "    def __init__(self):\n",
    "        self.head = None\n",
    "        \n",
    "    def isEmpty(self):\n",
    "        return self.head == None\n",
    "    \n",
    "    def addNode (self, new_data):\n",
    "        tmp = Node(new_data)\n",
    "        tmp.setNext(self.head)\n",
    "        self.head = tmp\n",
    "        \n",
    "    def getSize(self):\n",
    "        current = self.head\n",
    "        i = 0\n",
    "        while current != None:\n",
    "            i += 1\n",
    "            current = current.getNext()\n",
    "        return i\n",
    "    \n",
    "    def search (self, item):\n",
    "        current = self.head\n",
    "        found = False\n",
    "        while current != None and not found:\n",
    "            if current.getData() == item:\n",
    "                found = True\n",
    "            else:\n",
    "                current = current.getNext()\n",
    "        return found\n",
    "    \n",
    "    def remove(self, item):\n",
    "        current = self.head\n",
    "        previous = None\n",
    "        found = False\n",
    "        \n",
    "        while not found:\n",
    "            if current.getData() == item:\n",
    "                found = True\n",
    "            else:\n",
    "                previous = current\n",
    "                current = current.getNext()\n",
    "        if previous == None:\n",
    "            self.head = current.getNext()\n",
    "        else:\n",
    "            previous.setNext(current.getNext())\n",
    "            \n",
    "    def appendData(self, item):\n",
    "        current = self.head\n",
    "        if current == None:\n",
    "            self.addNode(item)\n",
    "            \n",
    "        else:\n",
    "            i = 0\n",
    "            while current.getNext() != None:\n",
    "                i += 1\n",
    "                current = current.getNext()\n",
    "            current.setNext(Node(item))\n",
    "            \n",
    "        \n",
    "        \n",
    "        "
   ]
  },
  {
   "cell_type": "code",
   "execution_count": 152,
   "metadata": {},
   "outputs": [
    {
     "data": {
      "text/plain": [
       "True"
      ]
     },
     "execution_count": 152,
     "metadata": {},
     "output_type": "execute_result"
    }
   ],
   "source": [
    "l = ul()\n",
    "l.addNode(23)\n",
    "l.search(23)"
   ]
  },
  {
   "cell_type": "code",
   "execution_count": 153,
   "metadata": {},
   "outputs": [
    {
     "data": {
      "text/plain": [
       "True"
      ]
     },
     "execution_count": 153,
     "metadata": {},
     "output_type": "execute_result"
    }
   ],
   "source": [
    "l = ul()\n",
    "l.appendData(8)\n",
    "l.search(8)"
   ]
  },
  {
   "cell_type": "code",
   "execution_count": null,
   "metadata": {},
   "outputs": [],
   "source": []
  }
 ],
 "metadata": {
  "kernelspec": {
   "display_name": "ins_env",
   "language": "python",
   "name": "ins_env"
  },
  "language_info": {
   "codemirror_mode": {
    "name": "ipython",
    "version": 3
   },
   "file_extension": ".py",
   "mimetype": "text/x-python",
   "name": "python",
   "nbconvert_exporter": "python",
   "pygments_lexer": "ipython3",
   "version": "3.7.7"
  }
 },
 "nbformat": 4,
 "nbformat_minor": 4
}
