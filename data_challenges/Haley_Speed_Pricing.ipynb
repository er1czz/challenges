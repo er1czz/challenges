{
 "cells": [
  {
   "cell_type": "markdown",
   "metadata": {},
   "source": [
    "# Pricing Problem"
   ]
  },
  {
   "cell_type": "markdown",
   "metadata": {},
   "source": [
    "### Background"
   ]
  },
  {
   "cell_type": "markdown",
   "metadata": {},
   "source": [
    "I am a data scientist at a software company that has implemented a price optimization test. My job is to determine whether or not the test was successful. "
   ]
  },
  {
   "cell_type": "markdown",
   "metadata": {},
   "source": [
    "### Major Findings"
   ]
  },
  {
   "cell_type": "markdown",
   "metadata": {},
   "source": [
    "1) There is a small (14%) increase in the revenue per visitor with the new price of \\$59, but was not significant at p <0.05. \n",
    "\n",
    "2) The conversion rate was very low in both groups and only 1.83% overall.\n",
    "\n",
    "3) The majority of purchases were from home addresses using mobile OS or Windows who found their way to the website directly or via ads.\n",
    "\n",
    "4) Power analysis using the old price as a control specified a minimum of 8632 visitors per group for a significance level of p < 0.01, so the test could have stopped after day 6.  "
   ]
  },
  {
   "cell_type": "markdown",
   "metadata": {},
   "source": [
    "### Recommended actions"
   ]
  },
  {
   "cell_type": "markdown",
   "metadata": {},
   "source": [
    "1) Leave the price at \\$39 and focus on increasing conversion rate.\n",
    "\n",
    "2) Invest in search engine optimization to boost traffic to the site. \n",
    "\n",
    "3) Once the search engine optimization becomes effective, reduce spending on ads to increase your revenue per visitor.\n",
    "\n",
    "4) Look further into the device types since MacOS users are less likely to visit the page. If it is a UI/UX issue, have the web design team improve it as cross-platform. If the software the company is selling is not MacOS compatible, this is an untapped market for future releases.\n",
    "\n",
    "5) Most visitors to the website were from residential buildings, leaving businesses and government as untapped markets. If the software is relevant to business and government, future promotions, bulk discounts, and other marketing strategies should include these to increase revenue."
   ]
  },
  {
   "cell_type": "markdown",
   "metadata": {},
   "source": [
    "--------"
   ]
  },
  {
   "cell_type": "markdown",
   "metadata": {},
   "source": [
    "## Implementation Notes\n",
    "#### Time-consuming tasks were saved to file to be retrieved as needed in the actual analysis\n",
    "- Many of these blocks only need to be run once and the output saved to be reloaded later\n",
    "- These are indicated with empty brackets beside the blocks.\n",
    "- For example: \n",
    "    - The code to extract geocode data and merge it with the test data took 15 hours for the full dataset\n",
    "    - The code to identify orphan IDs took 1 hour\n",
    "    - The code to identify inactive users took nearly 2 hours"
   ]
  },
  {
   "cell_type": "markdown",
   "metadata": {},
   "source": [
    "**Requirements** \n",
    "\n",
    "- User segmentation\n",
    "\n",
    "- Insights about the segments behaving \"differently\"\n",
    "\n",
    "- Any other insights"
   ]
  },
  {
   "cell_type": "markdown",
   "metadata": {},
   "source": [
    "**Parameters**\n",
    "\n",
    "- Null hypothesis: The price increase does not increase revenue\n",
    "\n",
    "- Test hypothesis: The price increase does increase revenue"
   ]
  },
  {
   "cell_type": "markdown",
   "metadata": {},
   "source": [
    "#### Population demographics"
   ]
  },
  {
   "cell_type": "markdown",
   "metadata": {},
   "source": [
    "- 66% are not naive to new price (biased) \n",
    "- 33% are naive to new price\n",
    "- These were adjusted slightly after cleaning the data and eliminating inconsistent price and test labels\n",
    "- There are 275,616 unique user_ids, but only 996 unique latitude/longitude coordinates._\n",
    "    - This could mean multiple users from the same location or users from one location are using different accounts.\n",
    "- There are 41184 users in the test data without demographics in the user table.\n",
    "    - Assuming these are visitors who either do not have an account or did not log into their account when they visited"
   ]
  },
  {
   "cell_type": "markdown",
   "metadata": {},
   "source": [
    "#### Time Series"
   ]
  },
  {
   "cell_type": "markdown",
   "metadata": {},
   "source": [
    "- Times are all local time\n",
    "- To do any comparisons, they will have to be converted to UTC"
   ]
  },
  {
   "cell_type": "markdown",
   "metadata": {},
   "source": [
    "**Specific Questions to Answer**\n",
    "- Should we sell at 39  or 59?\n",
    "- What are your main findings looking at the data?\n",
    "- After how many days you would have stopped the test?"
   ]
  },
  {
   "cell_type": "markdown",
   "metadata": {},
   "source": [
    "## Dependencies, Defaults, and Definitions"
   ]
  },
  {
   "cell_type": "code",
   "execution_count": 244,
   "metadata": {},
   "outputs": [],
   "source": [
    "import pandas as pd\n",
    "import datetime as dt\n",
    "from tzwhere import tzwhere as tz\n",
    "import pytz\n",
    "from timezonefinder import TimezoneFinder\n",
    "from geopy.geocoders import Nominatim\n",
    "import numpy as np\n",
    "import matplotlib.pyplot as plt\n",
    "from scipy.stats import binom as binom\n",
    "from IPython.display import HTML\n",
    "import os\n",
    "import glob\n",
    "import seaborn as sns\n",
    "import geopandas as gpd"
   ]
  },
  {
   "cell_type": "markdown",
   "metadata": {},
   "source": [
    "## Data Quality check"
   ]
  },
  {
   "cell_type": "markdown",
   "metadata": {},
   "source": [
    "**Import user table**"
   ]
  },
  {
   "cell_type": "code",
   "execution_count": 121,
   "metadata": {},
   "outputs": [
    {
     "data": {
      "text/html": [
       "<hr><font size = 3>User table shape: (275616, 5)"
      ],
      "text/plain": [
       "<IPython.core.display.HTML object>"
      ]
     },
     "metadata": {},
     "output_type": "display_data"
    },
    {
     "data": {
      "text/html": [
       "<font size = 3>User table columns : "
      ],
      "text/plain": [
       "<IPython.core.display.HTML object>"
      ]
     },
     "metadata": {},
     "output_type": "display_data"
    },
    {
     "data": {
      "text/html": [
       "<hr>"
      ],
      "text/plain": [
       "<IPython.core.display.HTML object>"
      ]
     },
     "metadata": {},
     "output_type": "display_data"
    },
    {
     "data": {
      "text/html": [
       "<div>\n",
       "<style scoped>\n",
       "    .dataframe tbody tr th:only-of-type {\n",
       "        vertical-align: middle;\n",
       "    }\n",
       "\n",
       "    .dataframe tbody tr th {\n",
       "        vertical-align: top;\n",
       "    }\n",
       "\n",
       "    .dataframe thead th {\n",
       "        text-align: right;\n",
       "    }\n",
       "</style>\n",
       "<table border=\"1\" class=\"dataframe\">\n",
       "  <thead>\n",
       "    <tr style=\"text-align: right;\">\n",
       "      <th></th>\n",
       "      <th>user_id</th>\n",
       "      <th>city</th>\n",
       "      <th>country</th>\n",
       "      <th>lat</th>\n",
       "      <th>long</th>\n",
       "    </tr>\n",
       "  </thead>\n",
       "  <tbody>\n",
       "    <tr>\n",
       "      <th>0</th>\n",
       "      <td>510335</td>\n",
       "      <td>Peabody</td>\n",
       "      <td>USA</td>\n",
       "      <td>42.53</td>\n",
       "      <td>-70.97</td>\n",
       "    </tr>\n",
       "    <tr>\n",
       "      <th>1</th>\n",
       "      <td>89568</td>\n",
       "      <td>Reno</td>\n",
       "      <td>USA</td>\n",
       "      <td>39.54</td>\n",
       "      <td>-119.82</td>\n",
       "    </tr>\n",
       "    <tr>\n",
       "      <th>2</th>\n",
       "      <td>434134</td>\n",
       "      <td>Rialto</td>\n",
       "      <td>USA</td>\n",
       "      <td>34.11</td>\n",
       "      <td>-117.39</td>\n",
       "    </tr>\n",
       "    <tr>\n",
       "      <th>3</th>\n",
       "      <td>289769</td>\n",
       "      <td>Carson City</td>\n",
       "      <td>USA</td>\n",
       "      <td>39.15</td>\n",
       "      <td>-119.74</td>\n",
       "    </tr>\n",
       "    <tr>\n",
       "      <th>4</th>\n",
       "      <td>939586</td>\n",
       "      <td>Chicago</td>\n",
       "      <td>USA</td>\n",
       "      <td>41.84</td>\n",
       "      <td>-87.68</td>\n",
       "    </tr>\n",
       "  </tbody>\n",
       "</table>\n",
       "</div>"
      ],
      "text/plain": [
       "  user_id         city country    lat     long\n",
       "0  510335      Peabody     USA  42.53   -70.97\n",
       "1   89568         Reno     USA  39.54  -119.82\n",
       "2  434134       Rialto     USA  34.11  -117.39\n",
       "3  289769  Carson City     USA  39.15  -119.74\n",
       "4  939586      Chicago     USA  41.84   -87.68"
      ]
     },
     "execution_count": 121,
     "metadata": {},
     "output_type": "execute_result"
    }
   ],
   "source": [
    "df_user = pd.read_csv('/Users/haleyspeed/Docs/insight/data_challenges/data/pricing/user_table.csv', dtype = 'unicode')\n",
    "display(HTML(\"<hr><font size = 3>User table shape: \" + str(df_user.shape)))\n",
    "display(HTML('<font size = 3>User table columns : '))\n",
    "display(HTML('<hr>'))\n",
    "df_user.head()"
   ]
  },
  {
   "cell_type": "markdown",
   "metadata": {},
   "source": [
    "#### Visualize user locations"
   ]
  },
  {
   "cell_type": "code",
   "execution_count": 346,
   "metadata": {},
   "outputs": [
    {
     "data": {
      "image/png": "[encoded data removed]",
      "text/plain": [
       "<Figure size 1440x1440 with 1 Axes>"
      ]
     },
     "metadata": {
      "needs_background": "light"
     },
     "output_type": "display_data"
    }
   ],
   "source": [
    "def plot_map(df):\n",
    "    world = gpd.read_file(gpd.datasets.get_path('naturalearth_lowres'))\n",
    "    tmp = df[df.long.astype(float) < 0]\n",
    "    gdf = gpd.GeoDataFrame(\n",
    "        tmp, geometry=gpd.points_from_xy(tmp.long, tmp.lat))\n",
    "    ax = world[world.name == 'United States of America'].plot(\n",
    "        color='wheat', edgecolor='black', figsize = (20,20),alpha = 0.5)\n",
    "    gdf.plot(ax=ax, marker = 'o', markersize = 20, color = 'magenta', alpha = 0.025)\n",
    "\n",
    "plot_map(df_user)"
   ]
  },
  {
   "cell_type": "markdown",
   "metadata": {},
   "source": [
    "#### Import test data table"
   ]
  },
  {
   "cell_type": "code",
   "execution_count": null,
   "metadata": {},
   "outputs": [],
   "source": [
    "df_test = pd.read_csv('/Users/haleyspeed/Docs/insight/data_challenges/data/pricing/test_results.csv', dtype = 'unicode')\n",
    "df_test = df_test.drop_duplicates()\n",
    "df_test.user_id = [str(c).replace('.0','') for c in df_test.user_id.values]\n",
    "display(HTML(\"Test results shape: \" + str(df_test.shape)))\n",
    "display(HTML('User test columns : ')) \n",
    "df_test.head()"
   ]
  },
  {
   "cell_type": "markdown",
   "metadata": {},
   "source": [
    "#### Check for mismatched price and test variables\n",
    "- 0 = \\$39\n",
    "- 1 = \\$59"
   ]
  },
  {
   "cell_type": "code",
   "execution_count": 81,
   "metadata": {},
   "outputs": [
    {
     "data": {
      "text/html": [
       "<hr><h3><font color = 'blue'>Problem: Mislabeled Price and Test in some rows</h3>"
      ],
      "text/plain": [
       "<IPython.core.display.HTML object>"
      ]
     },
     "metadata": {},
     "output_type": "display_data"
    },
    {
     "data": {
      "text/html": [
       "<font size = 3><font color = 'blue'>Mislabeled tests ($59 labeled as 0 in test): 210"
      ],
      "text/plain": [
       "<IPython.core.display.HTML object>"
      ]
     },
     "metadata": {},
     "output_type": "display_data"
    },
    {
     "data": {
      "text/html": [
       "<font size = 3><font color = 'blue'>Mislabeled tests ($39 labeled as 1 in test): 155"
      ],
      "text/plain": [
       "<IPython.core.display.HTML object>"
      ]
     },
     "metadata": {},
     "output_type": "display_data"
    },
    {
     "data": {
      "text/html": [
       "<hr>"
      ],
      "text/plain": [
       "<IPython.core.display.HTML object>"
      ]
     },
     "metadata": {},
     "output_type": "display_data"
    }
   ],
   "source": [
    "mislabeled_0 = df_test[(df_test.test == '0') & (df_test.price == '59')]\n",
    "mislabeled_1 = df_test[(df_test.test == '1') & (df_test.price == '39')]\n",
    "display(HTML(\"<hr><h3><font color = 'blue'>Problem: Mislabeled Price and Test in some rows</h3>\"))\n",
    "display(HTML(\"<font size = 3><font color = 'blue'>Mislabeled tests ($59 labeled as 0 in test): \" + str(mislabeled_0.shape[0])))\n",
    "display(HTML(\"<font size = 3><font color = 'blue'>Mislabeled tests ($39 labeled as 1 in test): \" + str(mislabeled_1.shape[0])))\n",
    "display (HTML('<hr>'))"
   ]
  },
  {
   "cell_type": "markdown",
   "metadata": {},
   "source": [
    "**Check for users with no demographics**"
   ]
  },
  {
   "cell_type": "code",
   "execution_count": null,
   "metadata": {},
   "outputs": [],
   "source": [
    "orphan_ids = [u for u in df_test.user_id.values if u not in df_user.user_id.values]"
   ]
  },
  {
   "cell_type": "code",
   "execution_count": null,
   "metadata": {},
   "outputs": [],
   "source": [
    "df_orphans = df_test.user_id [df_test.user_id.isin(orphan_ids)]\n",
    "df_orphans.head()\n",
    "df_orphans.to_csv('/Users/haleyspeed/Docs/insight/data_challenges/data/pricing/orphan_ids.csv', index = False)"
   ]
  },
  {
   "cell_type": "code",
   "execution_count": 350,
   "metadata": {},
   "outputs": [
    {
     "data": {
      "text/html": [
       "<hr><h3><font color = 'blue'>Problem: There are 41184 users in the test data without \n",
       "              demographics in the user table.</h3>"
      ],
      "text/plain": [
       "<IPython.core.display.HTML object>"
      ]
     },
     "metadata": {},
     "output_type": "display_data"
    },
    {
     "data": {
      "text/html": [
       "<hr>"
      ],
      "text/plain": [
       "<IPython.core.display.HTML object>"
      ]
     },
     "metadata": {},
     "output_type": "display_data"
    }
   ],
   "source": [
    "df_orphans = pd.read_csv('/Users/haleyspeed/Docs/insight/data_challenges/data/pricing/orphan_ids.csv', dtype='unicode')\n",
    "display(HTML(\"\"\"<hr><h3><font color = 'blue'>Problem: There are \"\"\" + str(df_orphans.shape[0]) +  \"\"\" users in the test data without \n",
    "              demographics in the user table.</h3>\"\"\"))\n",
    "display (HTML('<hr>'))"
   ]
  },
  {
   "cell_type": "markdown",
   "metadata": {},
   "source": [
    "#### Check for users who have not purchased from the site"
   ]
  },
  {
   "cell_type": "code",
   "execution_count": 471,
   "metadata": {},
   "outputs": [],
   "source": [
    "inactive = [u for u in df_user.user_id.values if u not in np.unique(df_test.user_id.values)]"
   ]
  },
  {
   "cell_type": "code",
   "execution_count": null,
   "metadata": {},
   "outputs": [],
   "source": [
    "df_inactive = df_user.user_id [df_user.user_id.isin(inactive)]\n",
    "df_inactive.head()\n",
    "df_inactive.to_csv('/Users/haleyspeed/Docs/insight/data_challenges/data/pricing/inactive_ids.csv', index = False)"
   ]
  },
  {
   "cell_type": "code",
   "execution_count": null,
   "metadata": {},
   "outputs": [],
   "source": [
    "df_inactive = pd.read_csv('/Users/haleyspeed/Docs/insight/data_challenges/data/pricing/inactive_ids.csv', dtype='unicode')\n",
    "display(HTML(\"\"\"<hr><h3><font color = 'blue'>Problem: There are \"\"\" + str(df_inactive.shape[0]) +  \"\"\" users in the user \n",
    "             whom have not made purchases at either price.</h3>\"\"\"))\n",
    "display (HTML('<hr>'))"
   ]
  },
  {
   "cell_type": "markdown",
   "metadata": {},
   "source": [
    "**Expand the User Database with Latitude/Longitude Information**"
   ]
  },
  {
   "cell_type": "code",
   "execution_count": null,
   "metadata": {},
   "outputs": [],
   "source": [
    "tzlist = pd.read_csv('/Users/haleyspeed/Docs/insight/data_challenges/data/pricing/geonames/allCountries.txt', \n",
    "                     delimiter = '\\t')\n",
    "tzlist.columns = ['id', 'city', 'city2', 'state','lat','long', '6','7','8','9','10','11','12','13','14',\n",
    "                 '15','16','time_zone','date']\n",
    "tzlist = tzlist[['id','city','state','lat','long','time_zone']]"
   ]
  },
  {
   "cell_type": "markdown",
   "metadata": {},
   "source": [
    "## Add building name, state, postcode, and time zone\n",
    "Took more than an hour because of calls to the geocode API. Run once and save the data."
   ]
  },
  {
   "cell_type": "code",
   "execution_count": null,
   "metadata": {},
   "outputs": [],
   "source": [
    "def get_geodata (df,tzlist):\n",
    "    \"\"\"Takes a dataframe with latitude and longitude coordinates\n",
    "       and adds address type, postcode and state, if applicable, \n",
    "       and time zone\"\"\"\n",
    "    \n",
    "    df2 = pd.DataFrame() # output dataframe\n",
    "    \n",
    "    # Requires two reverse geocoders because neither is complete\n",
    "    # And google lookups aren't free\n",
    "    locator = Nominatim(user_agent = 'myGeocoder') \n",
    "    tf = TimezoneFinder()\n",
    "    \n",
    "    # Cycle through the unique lat/long pairs to get location information\n",
    "    i = 0\n",
    "    for index, row in df.iterrows():\n",
    "        #if i % 10 == 0:\n",
    "        #    print(i, end = ' ')\n",
    "        print(i, end = ' ')\n",
    "        new = {'lat': row.lat, 'long': row.long}\n",
    "        coordinates = str(row['lat']), str(row['long'])\n",
    "        location = locator.reverse(coordinates)\n",
    "        tzwhere = tz.tzwhere()\n",
    "        new['building_type'] = list(location.raw['address'].keys())[0]\n",
    "        try:\n",
    "            #new['time_zone'] = tzwhere.tzNameAt(float(row.lat), float(row.long))\n",
    "            new['time_zone'] = tf.timezone_at(lng=float(row.long), lat=float(row.lat))\n",
    "        except:\n",
    "            \n",
    "            pass\n",
    "        try:\n",
    "            new['postcode'] = location.raw['address']['postcode'][:5]\n",
    "        except:\n",
    "            pass\n",
    "        try:\n",
    "            new['city'] = location.raw['address']['city']\n",
    "        except:\n",
    "            pass\n",
    "        try:\n",
    "            new['state'] = location.raw['address']['state']\n",
    "        except:\n",
    "            pass\n",
    "        df2 = df2.append(new, ignore_index = True)\n",
    "        #if i % 10 == 0:\n",
    "        #    df2.to_csv('data/pricing/full_user_info' + str(i) + '.csv')\n",
    "        #    df2 = pd.DataFrame()\n",
    "        #df2.to_csv('data/pricing/full_user_info' + str(i) + '.csv')\n",
    "        i += 1\n",
    "    return df2"
   ]
  },
  {
   "cell_type": "code",
   "execution_count": null,
   "metadata": {},
   "outputs": [],
   "source": [
    "timezones = df_user.drop(['user_id','city','country'], axis = 1)\n",
    "timezones = timezones.drop_duplicates()\n",
    "timezones = get_geodata(timezones[991:])\n",
    "timezones.head()"
   ]
  },
  {
   "cell_type": "markdown",
   "metadata": {},
   "source": [
    "------\n",
    "### _FINDING: There are 275,616 unique user_ids, but only 996 unique latitude/longitude coordinates._\n",
    "_This could mean multiple users from the same location or users from one location are using different accounts._\n",
    "\n",
    "----"
   ]
  },
  {
   "cell_type": "markdown",
   "metadata": {},
   "source": [
    "**Concatenate the batched time zone files**\n",
    "- Only need to run once"
   ]
  },
  {
   "cell_type": "code",
   "execution_count": null,
   "metadata": {},
   "outputs": [],
   "source": [
    "def get_timezones(dir_in):\n",
    "    timezones = pd.DataFrame()\n",
    "    dir_working = os.getcwd()\n",
    "    os.chdir (dir_in)\n",
    "    i = 1\n",
    "    for f in glob.glob('*{}'.format('csv')):\n",
    "        #print(i,f)\n",
    "        timezones = timezones.append(pd.read_csv(f))\n",
    "    timezones.to_csv(os.path.join('../','timezones.csv'))\n",
    "    os.chdir(dir_working)\n",
    "    return timezones\n",
    "\n",
    "dir_in = os.path.join('/Users/haleyspeed/Docs/insight/data_challenges','data','pricing','tz')    \n",
    "#timezones = get_timezones(dir_in)\n",
    "#timezones.head()"
   ]
  },
  {
   "cell_type": "markdown",
   "metadata": {},
   "source": [
    "**Load in the previously tagged time zones**"
   ]
  },
  {
   "cell_type": "code",
   "execution_count": null,
   "metadata": {},
   "outputs": [],
   "source": [
    "timezones = pd.read_csv('/Users/haleyspeed/Docs/insight/data_challenges/data/pricing/timezones.csv')\n",
    "cols = [c for c in timezones.columns.values if 'unnamed' not in c.lower()]\n",
    "timezones = timezones[cols]\n",
    "timezones.head()"
   ]
  },
  {
   "cell_type": "markdown",
   "metadata": {},
   "source": [
    "**Add timezones to user table and compare city names as an extra validation**"
   ]
  },
  {
   "cell_type": "code",
   "execution_count": null,
   "metadata": {},
   "outputs": [],
   "source": [
    "def expand_users(df_user, timezones):\n",
    "    \"\"\"\"\"\"\n",
    "    df = pd.DataFrame()\n",
    "    i = 0\n",
    "    for index, row in df_user.iterrows():\n",
    "        if i % 500 == 0:\n",
    "            df.to_csv('/Users/haleyspeed/Docs/insight/data_challenges/data/pricing/user/full_user_info_' + \n",
    "                     str(i) +'.csv', index = False)\n",
    "            df = pd.DataFrame()\n",
    "            print(i, end = ' ')\n",
    "        new = row\n",
    "        new['time_zone'] = str(timezones[(timezones['lat'] == row.lat) & \n",
    "                                     (timezones['long'] == row.long)].time_zone.values).strip(\"['']\")\n",
    "        new['nearest_city'] = str(timezones[(timezones['lat'] == row.lat) & \n",
    "                                     (timezones['long'] == row.long)].city.values).strip(\"['']\")\n",
    "        new['state'] = str(timezones[(timezones['lat'] == row.lat) & \n",
    "                                     (timezones['long'] == row.long)].state.values).strip(\"['']\")\n",
    "        new['postcode'] = str(timezones[(timezones['lat'] == row.lat) & \n",
    "                                     (timezones['long'] == row.long)].postcode.values).strip(\"['.']\")\n",
    "        new['building_type'] = str(timezones[(timezones['lat'] == row.lat) & \n",
    "                                     (timezones['long'] == row.long)].building_type.values).strip(\"['']\")\n",
    "        df = df.append(new, ignore_index = True)\n",
    "        i += 1\n",
    "    df.to_csv('/Users/haleyspeed/Docs/insight/data_challenges/data/pricing/user/full_user_info_' + \n",
    "                     str(i) +'.csv', index = False)\n",
    "    return df\n",
    "\n",
    "#df_user = expand_users(df_user, timezones)"
   ]
  },
  {
   "cell_type": "markdown",
   "metadata": {},
   "source": [
    "**concatenate the expanded user table**"
   ]
  },
  {
   "cell_type": "code",
   "execution_count": 49,
   "metadata": {},
   "outputs": [],
   "source": [
    "def concat(dir_in, dir_out):\n",
    "    dfo = pd.DataFrame()\n",
    "    dir_working = os.getcwd()\n",
    "    os.chdir (dir_in)\n",
    "    i = 1\n",
    "    for f in glob.glob('*{}'.format('csv')):\n",
    "        #print(i,f)\n",
    "        dfo = dfo.append(pd.read_csv(f))\n",
    "    dfo.to_csv(dir_out, index = False)\n",
    "    os.chdir(dir_working)\n",
    "    return dfo\n",
    "\n",
    "dir_in = os.path.join('/Users/haleyspeed/Docs/insight/data_challenges','data','pricing','user') \n",
    "dir_out = os.path.join('../','extended_user_info_raw.csv')\n",
    "#df_user = concat_users(dir_in, dir_out)\n",
    "#df_user.head()"
   ]
  },
  {
   "cell_type": "code",
   "execution_count": null,
   "metadata": {},
   "outputs": [],
   "source": [
    "df_user.shape"
   ]
  },
  {
   "cell_type": "markdown",
   "metadata": {},
   "source": [
    "**Read in the expanded user table**"
   ]
  },
  {
   "cell_type": "code",
   "execution_count": null,
   "metadata": {},
   "outputs": [],
   "source": [
    "df_user = pd.read_csv('/Users/haleyspeed/Docs/insight/data_challenges/data/pricing/extended_user_info_raw.csv', \n",
    "                      dtype = 'unicode')\n",
    "df_user.head()"
   ]
  },
  {
   "cell_type": "markdown",
   "metadata": {},
   "source": [
    "**Get Missing time zone data**"
   ]
  },
  {
   "cell_type": "code",
   "execution_count": null,
   "metadata": {
    "scrolled": false
   },
   "outputs": [],
   "source": [
    "df_user.city = np.where(df_user.city.isnull(), df_user.nearest_city, df_user.city)\n",
    "df_missing = df_user[df_user.time_zone.isnull()]\n",
    "df_missing = get_geodata (df_missing,tzlist)\n",
    "\n",
    "print(df_missing.shape)\n",
    "df_missing.head()\n"
   ]
  },
  {
   "cell_type": "markdown",
   "metadata": {},
   "source": [
    "**Intermediate save for missing data**"
   ]
  },
  {
   "cell_type": "code",
   "execution_count": null,
   "metadata": {},
   "outputs": [],
   "source": [
    "df_missing.to_csv('missing.csv')"
   ]
  },
  {
   "cell_type": "markdown",
   "metadata": {},
   "source": [
    "**Checking for duplicates in extended user list**"
   ]
  },
  {
   "cell_type": "code",
   "execution_count": null,
   "metadata": {},
   "outputs": [],
   "source": [
    "df_user = df_user.drop_duplicates()\n",
    "df_user.shape"
   ]
  },
  {
   "cell_type": "markdown",
   "metadata": {},
   "source": [
    "**Checking for duplicates in completed user list**\n",
    "- Appears that filling in missing data reveals duplicate data\n",
    "- Follow that up to see which user IDs were duplicated and verify"
   ]
  },
  {
   "cell_type": "code",
   "execution_count": null,
   "metadata": {},
   "outputs": [],
   "source": [
    "dfu = df_user.append(df_missing)\n",
    "dfu = dfu[dfu.time_zone.isnull() == False]\n",
    "dfu.shape"
   ]
  },
  {
   "cell_type": "markdown",
   "metadata": {},
   "source": [
    "**Save the expanded user table**"
   ]
  },
  {
   "cell_type": "code",
   "execution_count": null,
   "metadata": {},
   "outputs": [],
   "source": [
    "dfu.to_csv('/Users/haleyspeed/Docs/insight/data_challenges/data/pricing/full_user_info2.csv', index = False)\n",
    "dfu.head()"
   ]
  },
  {
   "cell_type": "markdown",
   "metadata": {},
   "source": [
    "## Construct joined database"
   ]
  },
  {
   "cell_type": "markdown",
   "metadata": {},
   "source": [
    "**Read in orphaned dataframe**"
   ]
  },
  {
   "cell_type": "code",
   "execution_count": null,
   "metadata": {},
   "outputs": [],
   "source": [
    "df_orphans = pd.read_csv('/Users/haleyspeed/Docs/insight/data_challenges/data/pricing/orphan_ids.csv', \n",
    "                       dtype = 'unicode')\n",
    "df_orphans.shape"
   ]
  },
  {
   "cell_type": "markdown",
   "metadata": {},
   "source": [
    "**Read in expanded user database**"
   ]
  },
  {
   "cell_type": "code",
   "execution_count": 59,
   "metadata": {},
   "outputs": [
    {
     "name": "stdout",
     "output_type": "stream",
     "text": [
      "(273981, 10)\n"
     ]
    },
    {
     "data": {
      "text/html": [
       "<div>\n",
       "<style scoped>\n",
       "    .dataframe tbody tr th:only-of-type {\n",
       "        vertical-align: middle;\n",
       "    }\n",
       "\n",
       "    .dataframe tbody tr th {\n",
       "        vertical-align: top;\n",
       "    }\n",
       "\n",
       "    .dataframe thead th {\n",
       "        text-align: right;\n",
       "    }\n",
       "</style>\n",
       "<table border=\"1\" class=\"dataframe\">\n",
       "  <thead>\n",
       "    <tr style=\"text-align: right;\">\n",
       "      <th></th>\n",
       "      <th>building_type</th>\n",
       "      <th>city</th>\n",
       "      <th>country</th>\n",
       "      <th>lat</th>\n",
       "      <th>long</th>\n",
       "      <th>nearest_city</th>\n",
       "      <th>postcode</th>\n",
       "      <th>state</th>\n",
       "      <th>time_zone</th>\n",
       "      <th>user_id</th>\n",
       "    </tr>\n",
       "  </thead>\n",
       "  <tbody>\n",
       "    <tr>\n",
       "      <th>0</th>\n",
       "      <td>house_number</td>\n",
       "      <td>Davie</td>\n",
       "      <td>USA</td>\n",
       "      <td>26.08</td>\n",
       "      <td>-80.29</td>\n",
       "      <td>NaN</td>\n",
       "      <td>33328</td>\n",
       "      <td>Florida</td>\n",
       "      <td>America/New_York</td>\n",
       "      <td>776763</td>\n",
       "    </tr>\n",
       "    <tr>\n",
       "      <th>1</th>\n",
       "      <td>amenity</td>\n",
       "      <td>Memphis</td>\n",
       "      <td>USA</td>\n",
       "      <td>35.11</td>\n",
       "      <td>-90.01</td>\n",
       "      <td>Memphis</td>\n",
       "      <td>38106</td>\n",
       "      <td>Tennessee</td>\n",
       "      <td>America/Chicago</td>\n",
       "      <td>718335</td>\n",
       "    </tr>\n",
       "    <tr>\n",
       "      <th>2</th>\n",
       "      <td>house_number</td>\n",
       "      <td>Springfield</td>\n",
       "      <td>USA</td>\n",
       "      <td>44.05</td>\n",
       "      <td>-122.98</td>\n",
       "      <td>NaN</td>\n",
       "      <td>97478</td>\n",
       "      <td>Oregon</td>\n",
       "      <td>America/Los_Angeles</td>\n",
       "      <td>231768</td>\n",
       "    </tr>\n",
       "    <tr>\n",
       "      <th>3</th>\n",
       "      <td>house_number</td>\n",
       "      <td>Provo</td>\n",
       "      <td>USA</td>\n",
       "      <td>40.25</td>\n",
       "      <td>-111.64</td>\n",
       "      <td>Provo</td>\n",
       "      <td>84604</td>\n",
       "      <td>Utah</td>\n",
       "      <td>America/Denver</td>\n",
       "      <td>842280</td>\n",
       "    </tr>\n",
       "    <tr>\n",
       "      <th>4</th>\n",
       "      <td>house_number</td>\n",
       "      <td>Las Vegas</td>\n",
       "      <td>USA</td>\n",
       "      <td>36.21</td>\n",
       "      <td>-115.22</td>\n",
       "      <td>Las Vegas</td>\n",
       "      <td>89108</td>\n",
       "      <td>Nevada</td>\n",
       "      <td>America/Los_Angeles</td>\n",
       "      <td>291095</td>\n",
       "    </tr>\n",
       "  </tbody>\n",
       "</table>\n",
       "</div>"
      ],
      "text/plain": [
       "  building_type         city country    lat     long nearest_city postcode  \\\n",
       "0  house_number        Davie     USA  26.08   -80.29          NaN    33328   \n",
       "1       amenity      Memphis     USA  35.11   -90.01      Memphis    38106   \n",
       "2  house_number  Springfield     USA  44.05  -122.98          NaN    97478   \n",
       "3  house_number        Provo     USA  40.25  -111.64        Provo    84604   \n",
       "4  house_number    Las Vegas     USA  36.21  -115.22    Las Vegas    89108   \n",
       "\n",
       "       state            time_zone user_id  \n",
       "0    Florida     America/New_York  776763  \n",
       "1  Tennessee      America/Chicago  718335  \n",
       "2     Oregon  America/Los_Angeles  231768  \n",
       "3       Utah       America/Denver  842280  \n",
       "4     Nevada  America/Los_Angeles  291095  "
      ]
     },
     "execution_count": 59,
     "metadata": {},
     "output_type": "execute_result"
    }
   ],
   "source": [
    "dfu = pd.read_csv('/Users/haleyspeed/Docs/insight/data_challenges/data/pricing/full_user_info2.csv', dtype = 'unicode')\n",
    "dfu = dfu.drop_duplicates()\n",
    "drops = [c for c in dfu.columns.values if 'unnamed' in c.lower()]\n",
    "dfu = dfu.drop(drops, axis = 1)\n",
    "dfu.postcode = [str(v).replace('.0','') for v in dfu.postcode.values]\n",
    "dfu.user_id = [str(v).replace('.0','') for v in dfu.user_id.values]\n",
    "print(dfu.shape)\n",
    "dfu.head()"
   ]
  },
  {
   "cell_type": "markdown",
   "metadata": {},
   "source": [
    "**Read in test dataset**"
   ]
  },
  {
   "cell_type": "code",
   "execution_count": 191,
   "metadata": {},
   "outputs": [
    {
     "data": {
      "text/html": [
       "<hr><font size = 3>Test results rows: 316800"
      ],
      "text/plain": [
       "<IPython.core.display.HTML object>"
      ]
     },
     "metadata": {},
     "output_type": "display_data"
    },
    {
     "data": {
      "text/html": [
       "<font size = 3>Test results columns: 8"
      ],
      "text/plain": [
       "<IPython.core.display.HTML object>"
      ]
     },
     "metadata": {},
     "output_type": "display_data"
    },
    {
     "data": {
      "text/html": [
       "<hr>"
      ],
      "text/plain": [
       "<IPython.core.display.HTML object>"
      ]
     },
     "metadata": {},
     "output_type": "display_data"
    }
   ],
   "source": [
    "df_test = pd.read_csv('/Users/haleyspeed/Docs/insight/data_challenges/data/pricing/test_results.csv', dtype = 'unicode')\n",
    "df_test = df_test.drop_duplicates()\n",
    "df_test.user_id = [str(c).replace('.0','') for c in df_test.user_id.values]\n",
    "display(HTML(\"<hr><font size = 3>Test results rows: \" + str(df_test.shape[0])))\n",
    "display(HTML(\"<font size = 3>Test results columns: \" + str(df_test.shape[1])))\n",
    "display (HTML('<hr>'))"
   ]
  },
  {
   "cell_type": "markdown",
   "metadata": {},
   "source": [
    "**Assign geocode information to the test set**"
   ]
  },
  {
   "cell_type": "code",
   "execution_count": 64,
   "metadata": {
    "scrolled": false
   },
   "outputs": [],
   "source": [
    "def expand_test (df_test, dfu):\n",
    "    \"\"\"Adds user location information to the test data and calculates timestamps in UTC\"\"\"\n",
    "    dft = pd.DataFrame()\n",
    "    skipped = []\n",
    "    i = 0\n",
    "    for index, row in df_test.iterrows():\n",
    "        if i % 500 == 0:\n",
    "            print(i, len(skipped), end = ' ')\n",
    "            dft.to_csv('/Users/haleyspeed/Docs/insight/data_challenges/data/pricing/concats/concat_' \\\n",
    "                   + str(i) + '.csv', index = False)\n",
    "            dft = pd.DataFrame()\n",
    "        new = row\n",
    "        try:\n",
    "            row['time_zone'] = str(dfu[dfu.user_id == str(row.user_id)].time_zone.values).strip(\"['']\")\n",
    "            row['building_type'] = str(dfu[dfu.user_id == str(row.user_id)].building_type.values).strip(\"['']\")\n",
    "            row['postcode'] = str(dfu[dfu.user_id == str(row.user_id)].postcode.values).strip(\"['']\")\n",
    "            row['country'] = str(dfu[dfu.user_id == str(row.user_id)].country.values).strip(\"['']\")\n",
    "            row['city'] = str(dfu[dfu.user_id == str(row.user_id)].city.values).strip(\"['']\")\n",
    "            row['state'] = str(dfu[dfu.user_id == str(row.user_id)].state.values).strip(\"['']\")\n",
    "            row['lat'] = str(dfu[dfu.user_id == str(row.user_id)].lat.values).strip(\"['']\")\n",
    "            row['long'] = str(dfu[dfu.user_id == str(row.user_id)].long.values).strip(\"['']\")\n",
    "            row['nearest_city'] = str(dfu[dfu.user_id == str(row.user_id)].nearest_city.values).strip(\"['']\")\n",
    "            local = pytz.timezone (new.time_zone)\n",
    "            naive = dt.datetime.strptime (new.timestamp, \"%Y-%m-%d %H:%M:%S\")\n",
    "            local_dt = local.localize(naive, is_dst=None)\n",
    "            new['timetamp_utc'] = local_dt.astimezone(pytz.utc)\n",
    "        except:\n",
    "            skipped.append(row.user_id)\n",
    "        dft = dft.append(new)\n",
    "        i += 1\n",
    "    dft.to_csv('/Users/haleyspeed/Docs/insight/data_challenges/data/pricing/concats/concat_' \\\n",
    "                   + str(i) + '.csv', index = False)\n",
    "    return dft\n",
    "\n",
    "#dft = expand_test(df_test, dfu)\n",
    "#display(HTML(dft.head().to_html()))"
   ]
  },
  {
   "cell_type": "markdown",
   "metadata": {},
   "source": [
    "**Concatenate batched test files**"
   ]
  },
  {
   "cell_type": "code",
   "execution_count": 66,
   "metadata": {},
   "outputs": [
    {
     "data": {
      "text/html": [
       "<hr><font size = 3>Test results rows: 316800"
      ],
      "text/plain": [
       "<IPython.core.display.HTML object>"
      ]
     },
     "metadata": {},
     "output_type": "display_data"
    },
    {
     "data": {
      "text/html": [
       "<font size = 3>Test results columns: 13"
      ],
      "text/plain": [
       "<IPython.core.display.HTML object>"
      ]
     },
     "metadata": {},
     "output_type": "display_data"
    },
    {
     "data": {
      "text/html": [
       "<hr>"
      ],
      "text/plain": [
       "<IPython.core.display.HTML object>"
      ]
     },
     "metadata": {},
     "output_type": "display_data"
    },
    {
     "data": {
      "text/html": [
       "<div>\n",
       "<style scoped>\n",
       "    .dataframe tbody tr th:only-of-type {\n",
       "        vertical-align: middle;\n",
       "    }\n",
       "\n",
       "    .dataframe tbody tr th {\n",
       "        vertical-align: top;\n",
       "    }\n",
       "\n",
       "    .dataframe thead th {\n",
       "        text-align: right;\n",
       "    }\n",
       "</style>\n",
       "<table border=\"1\" class=\"dataframe\">\n",
       "  <thead>\n",
       "    <tr style=\"text-align: right;\">\n",
       "      <th></th>\n",
       "      <th>building_type</th>\n",
       "      <th>converted</th>\n",
       "      <th>country</th>\n",
       "      <th>device</th>\n",
       "      <th>operative_system</th>\n",
       "      <th>postcode</th>\n",
       "      <th>price</th>\n",
       "      <th>source</th>\n",
       "      <th>test</th>\n",
       "      <th>time_zone</th>\n",
       "      <th>timestamp</th>\n",
       "      <th>timetamp_utc</th>\n",
       "      <th>user_id</th>\n",
       "    </tr>\n",
       "  </thead>\n",
       "  <tbody>\n",
       "    <tr>\n",
       "      <th>0</th>\n",
       "      <td>house_number</td>\n",
       "      <td>0</td>\n",
       "      <td>USA</td>\n",
       "      <td>web</td>\n",
       "      <td>windows</td>\n",
       "      <td>14204</td>\n",
       "      <td>39</td>\n",
       "      <td>seo_facebook</td>\n",
       "      <td>0</td>\n",
       "      <td>America/New_York</td>\n",
       "      <td>2015-04-11 01:06:58</td>\n",
       "      <td>2015-04-11 05:06:58+00:00</td>\n",
       "      <td>351327</td>\n",
       "    </tr>\n",
       "    <tr>\n",
       "      <th>1</th>\n",
       "      <td>house_number</td>\n",
       "      <td>0</td>\n",
       "      <td>USA</td>\n",
       "      <td>web</td>\n",
       "      <td>windows</td>\n",
       "      <td>44714</td>\n",
       "      <td>59</td>\n",
       "      <td>friend_referral</td>\n",
       "      <td>1</td>\n",
       "      <td>America/New_York</td>\n",
       "      <td>2015-05-31 09:33:49</td>\n",
       "      <td>2015-05-31 13:33:49+00:00</td>\n",
       "      <td>477086</td>\n",
       "    </tr>\n",
       "    <tr>\n",
       "      <th>2</th>\n",
       "      <td>shop</td>\n",
       "      <td>0</td>\n",
       "      <td>USA</td>\n",
       "      <td>web</td>\n",
       "      <td>windows</td>\n",
       "      <td>60126</td>\n",
       "      <td>59</td>\n",
       "      <td>ads_other</td>\n",
       "      <td>1</td>\n",
       "      <td>America/Chicago</td>\n",
       "      <td>2015-05-10 04:11:17</td>\n",
       "      <td>2015-05-10 09:11:17+00:00</td>\n",
       "      <td>966104</td>\n",
       "    </tr>\n",
       "    <tr>\n",
       "      <th>3</th>\n",
       "      <td>leisure</td>\n",
       "      <td>0</td>\n",
       "      <td>USA</td>\n",
       "      <td>mobile</td>\n",
       "      <td>iOS</td>\n",
       "      <td>1965</td>\n",
       "      <td>39</td>\n",
       "      <td>seo-google</td>\n",
       "      <td>0</td>\n",
       "      <td>America/New_York</td>\n",
       "      <td>2015-04-02 18:05:24</td>\n",
       "      <td>2015-04-02 22:05:24+00:00</td>\n",
       "      <td>57066</td>\n",
       "    </tr>\n",
       "    <tr>\n",
       "      <th>4</th>\n",
       "      <td>NaN</td>\n",
       "      <td>0</td>\n",
       "      <td>NaN</td>\n",
       "      <td>web</td>\n",
       "      <td>windows</td>\n",
       "      <td>NaN</td>\n",
       "      <td>39</td>\n",
       "      <td>seo_facebook</td>\n",
       "      <td>0</td>\n",
       "      <td>NaN</td>\n",
       "      <td>2015-03-27 09:36:08</td>\n",
       "      <td>NaN</td>\n",
       "      <td>441679</td>\n",
       "    </tr>\n",
       "  </tbody>\n",
       "</table>\n",
       "</div>"
      ],
      "text/plain": [
       "  building_type  converted country  device operative_system postcode  price  \\\n",
       "0  house_number          0     USA     web          windows    14204     39   \n",
       "1  house_number          0     USA     web          windows    44714     59   \n",
       "2          shop          0     USA     web          windows    60126     59   \n",
       "3       leisure          0     USA  mobile              iOS     1965     39   \n",
       "4           NaN          0     NaN     web          windows      NaN     39   \n",
       "\n",
       "            source  test         time_zone            timestamp  \\\n",
       "0     seo_facebook     0  America/New_York  2015-04-11 01:06:58   \n",
       "1  friend_referral     1  America/New_York  2015-05-31 09:33:49   \n",
       "2        ads_other     1   America/Chicago  2015-05-10 04:11:17   \n",
       "3       seo-google     0  America/New_York  2015-04-02 18:05:24   \n",
       "4     seo_facebook     0               NaN  2015-03-27 09:36:08   \n",
       "\n",
       "                timetamp_utc  user_id  \n",
       "0  2015-04-11 05:06:58+00:00   351327  \n",
       "1  2015-05-31 13:33:49+00:00   477086  \n",
       "2  2015-05-10 09:11:17+00:00   966104  \n",
       "3  2015-04-02 22:05:24+00:00    57066  \n",
       "4                        NaN   441679  "
      ]
     },
     "execution_count": 66,
     "metadata": {},
     "output_type": "execute_result"
    }
   ],
   "source": [
    "dir_out = '/Users/haleyspeed/Docs/insight/data_challenges/data/pricing/complete_price_data.csv'\n",
    "dir_in = '/Users/haleyspeed/Docs/insight/data_challenges/data/pricing/concats/'\n",
    "dft = concat(dir_in, dir_out)\n",
    "display(HTML(\"<hr><font size = 3>Test results rows: \" + str(dft.shape[0])))\n",
    "display(HTML(\"<font size = 3>Test results columns: \" + str(dft.shape[1])))\n",
    "display (HTML('<hr>'))\n",
    "dft.head()"
   ]
  },
  {
   "cell_type": "markdown",
   "metadata": {},
   "source": [
    "**Number of transactions with no UTC timestamp**"
   ]
  },
  {
   "cell_type": "code",
   "execution_count": 67,
   "metadata": {},
   "outputs": [
    {
     "data": {
      "text/html": [
       "<hr><font size = 3>Number of transactions with no UTC timestamp: 51798<hr>"
      ],
      "text/plain": [
       "<IPython.core.display.HTML object>"
      ]
     },
     "metadata": {},
     "output_type": "display_data"
    }
   ],
   "source": [
    "no_stamp = dft[dft.timetamp_utc.isnull() == True]\n",
    "display(HTML('<hr><font size = 3>Number of transactions with no UTC timestamp: ' + str(no_stamp.shape[0]) + '<hr>'))"
   ]
  },
  {
   "cell_type": "markdown",
   "metadata": {},
   "source": [
    "# Customer Segmentation"
   ]
  },
  {
   "cell_type": "markdown",
   "metadata": {},
   "source": [
    "#### Read in the expanded test dataset"
   ]
  },
  {
   "cell_type": "code",
   "execution_count": 99,
   "metadata": {},
   "outputs": [
    {
     "data": {
      "text/html": [
       "<hr><font size = 3>Test results rows: 316800"
      ],
      "text/plain": [
       "<IPython.core.display.HTML object>"
      ]
     },
     "metadata": {},
     "output_type": "display_data"
    },
    {
     "data": {
      "text/html": [
       "<font size = 3>Test results columns: 13"
      ],
      "text/plain": [
       "<IPython.core.display.HTML object>"
      ]
     },
     "metadata": {},
     "output_type": "display_data"
    },
    {
     "data": {
      "text/html": [
       "<hr>"
      ],
      "text/plain": [
       "<IPython.core.display.HTML object>"
      ]
     },
     "metadata": {},
     "output_type": "display_data"
    },
    {
     "data": {
      "text/html": [
       "<div>\n",
       "<style scoped>\n",
       "    .dataframe tbody tr th:only-of-type {\n",
       "        vertical-align: middle;\n",
       "    }\n",
       "\n",
       "    .dataframe tbody tr th {\n",
       "        vertical-align: top;\n",
       "    }\n",
       "\n",
       "    .dataframe thead th {\n",
       "        text-align: right;\n",
       "    }\n",
       "</style>\n",
       "<table border=\"1\" class=\"dataframe\">\n",
       "  <thead>\n",
       "    <tr style=\"text-align: right;\">\n",
       "      <th></th>\n",
       "      <th>building_type</th>\n",
       "      <th>converted</th>\n",
       "      <th>country</th>\n",
       "      <th>device</th>\n",
       "      <th>operative_system</th>\n",
       "      <th>postcode</th>\n",
       "      <th>price</th>\n",
       "      <th>source</th>\n",
       "      <th>test</th>\n",
       "      <th>time_zone</th>\n",
       "      <th>timestamp</th>\n",
       "      <th>timetamp_utc</th>\n",
       "      <th>user_id</th>\n",
       "    </tr>\n",
       "  </thead>\n",
       "  <tbody>\n",
       "    <tr>\n",
       "      <th>0</th>\n",
       "      <td>house_number</td>\n",
       "      <td>0</td>\n",
       "      <td>USA</td>\n",
       "      <td>web</td>\n",
       "      <td>windows</td>\n",
       "      <td>14204.0</td>\n",
       "      <td>39</td>\n",
       "      <td>seo_facebook</td>\n",
       "      <td>0</td>\n",
       "      <td>America/New_York</td>\n",
       "      <td>2015-04-11 01:06:58</td>\n",
       "      <td>2015-04-11 05:06:58+00:00</td>\n",
       "      <td>351327</td>\n",
       "    </tr>\n",
       "    <tr>\n",
       "      <th>1</th>\n",
       "      <td>house_number</td>\n",
       "      <td>0</td>\n",
       "      <td>USA</td>\n",
       "      <td>web</td>\n",
       "      <td>windows</td>\n",
       "      <td>44714.0</td>\n",
       "      <td>59</td>\n",
       "      <td>friend_referral</td>\n",
       "      <td>1</td>\n",
       "      <td>America/New_York</td>\n",
       "      <td>2015-05-31 09:33:49</td>\n",
       "      <td>2015-05-31 13:33:49+00:00</td>\n",
       "      <td>477086</td>\n",
       "    </tr>\n",
       "    <tr>\n",
       "      <th>2</th>\n",
       "      <td>shop</td>\n",
       "      <td>0</td>\n",
       "      <td>USA</td>\n",
       "      <td>web</td>\n",
       "      <td>windows</td>\n",
       "      <td>60126.0</td>\n",
       "      <td>59</td>\n",
       "      <td>ads_other</td>\n",
       "      <td>1</td>\n",
       "      <td>America/Chicago</td>\n",
       "      <td>2015-05-10 04:11:17</td>\n",
       "      <td>2015-05-10 09:11:17+00:00</td>\n",
       "      <td>966104</td>\n",
       "    </tr>\n",
       "    <tr>\n",
       "      <th>3</th>\n",
       "      <td>leisure</td>\n",
       "      <td>0</td>\n",
       "      <td>USA</td>\n",
       "      <td>mobile</td>\n",
       "      <td>iOS</td>\n",
       "      <td>1965.0</td>\n",
       "      <td>39</td>\n",
       "      <td>seo-google</td>\n",
       "      <td>0</td>\n",
       "      <td>America/New_York</td>\n",
       "      <td>2015-04-02 18:05:24</td>\n",
       "      <td>2015-04-02 22:05:24+00:00</td>\n",
       "      <td>57066</td>\n",
       "    </tr>\n",
       "    <tr>\n",
       "      <th>4</th>\n",
       "      <td>NaN</td>\n",
       "      <td>0</td>\n",
       "      <td>NaN</td>\n",
       "      <td>web</td>\n",
       "      <td>windows</td>\n",
       "      <td>NaN</td>\n",
       "      <td>39</td>\n",
       "      <td>seo_facebook</td>\n",
       "      <td>0</td>\n",
       "      <td>NaN</td>\n",
       "      <td>2015-03-27 09:36:08</td>\n",
       "      <td>NaN</td>\n",
       "      <td>441679</td>\n",
       "    </tr>\n",
       "  </tbody>\n",
       "</table>\n",
       "</div>"
      ],
      "text/plain": [
       "  building_type converted country  device operative_system postcode price  \\\n",
       "0  house_number         0     USA     web          windows  14204.0    39   \n",
       "1  house_number         0     USA     web          windows  44714.0    59   \n",
       "2          shop         0     USA     web          windows  60126.0    59   \n",
       "3       leisure         0     USA  mobile              iOS   1965.0    39   \n",
       "4           NaN         0     NaN     web          windows      NaN    39   \n",
       "\n",
       "            source test         time_zone            timestamp  \\\n",
       "0     seo_facebook    0  America/New_York  2015-04-11 01:06:58   \n",
       "1  friend_referral    1  America/New_York  2015-05-31 09:33:49   \n",
       "2        ads_other    1   America/Chicago  2015-05-10 04:11:17   \n",
       "3       seo-google    0  America/New_York  2015-04-02 18:05:24   \n",
       "4     seo_facebook    0               NaN  2015-03-27 09:36:08   \n",
       "\n",
       "                timetamp_utc user_id  \n",
       "0  2015-04-11 05:06:58+00:00  351327  \n",
       "1  2015-05-31 13:33:49+00:00  477086  \n",
       "2  2015-05-10 09:11:17+00:00  966104  \n",
       "3  2015-04-02 22:05:24+00:00   57066  \n",
       "4                        NaN  441679  "
      ]
     },
     "execution_count": 99,
     "metadata": {},
     "output_type": "execute_result"
    }
   ],
   "source": [
    "dft = pd.read_csv('/Users/haleyspeed/Docs/insight/data_challenges/data/pricing/complete_price_data.csv', \n",
    "                  dtype = 'unicode')\n",
    "display(HTML(\"<hr><font size = 3>Test results rows: \" + str(dft.shape[0])))\n",
    "display(HTML(\"<font size = 3>Test results columns: \" + str(dft.shape[1])))\n",
    "display (HTML('<hr>'))\n",
    "dft.head()"
   ]
  },
  {
   "cell_type": "markdown",
   "metadata": {},
   "source": [
    "#### Remove the rows with mislabeled price and test columns\n",
    "- Unsure which is more reliable and the dataset is large enough to handle a ~450 row loss, so I will take the conservative approach and remove them from the set"
   ]
  },
  {
   "cell_type": "code",
   "execution_count": 102,
   "metadata": {
    "scrolled": false
   },
   "outputs": [
    {
     "data": {
      "text/html": [
       "<hr><font size = 3>Test results rows: 316435"
      ],
      "text/plain": [
       "<IPython.core.display.HTML object>"
      ]
     },
     "metadata": {},
     "output_type": "display_data"
    },
    {
     "data": {
      "text/html": [
       "<font size = 3>Test results columns: 13"
      ],
      "text/plain": [
       "<IPython.core.display.HTML object>"
      ]
     },
     "metadata": {},
     "output_type": "display_data"
    },
    {
     "data": {
      "text/html": [
       "<hr>"
      ],
      "text/plain": [
       "<IPython.core.display.HTML object>"
      ]
     },
     "metadata": {},
     "output_type": "display_data"
    },
    {
     "data": {
      "text/html": [
       "<div>\n",
       "<style scoped>\n",
       "    .dataframe tbody tr th:only-of-type {\n",
       "        vertical-align: middle;\n",
       "    }\n",
       "\n",
       "    .dataframe tbody tr th {\n",
       "        vertical-align: top;\n",
       "    }\n",
       "\n",
       "    .dataframe thead th {\n",
       "        text-align: right;\n",
       "    }\n",
       "</style>\n",
       "<table border=\"1\" class=\"dataframe\">\n",
       "  <thead>\n",
       "    <tr style=\"text-align: right;\">\n",
       "      <th></th>\n",
       "      <th>building_type</th>\n",
       "      <th>converted</th>\n",
       "      <th>country</th>\n",
       "      <th>device</th>\n",
       "      <th>operative_system</th>\n",
       "      <th>postcode</th>\n",
       "      <th>price</th>\n",
       "      <th>source</th>\n",
       "      <th>test</th>\n",
       "      <th>time_zone</th>\n",
       "      <th>timestamp</th>\n",
       "      <th>timetamp_utc</th>\n",
       "      <th>user_id</th>\n",
       "    </tr>\n",
       "  </thead>\n",
       "  <tbody>\n",
       "    <tr>\n",
       "      <th>0</th>\n",
       "      <td>house_number</td>\n",
       "      <td>0</td>\n",
       "      <td>USA</td>\n",
       "      <td>web</td>\n",
       "      <td>windows</td>\n",
       "      <td>14204.0</td>\n",
       "      <td>39</td>\n",
       "      <td>seo_facebook</td>\n",
       "      <td>0</td>\n",
       "      <td>America/New_York</td>\n",
       "      <td>2015-04-11 01:06:58</td>\n",
       "      <td>2015-04-11 05:06:58+00:00</td>\n",
       "      <td>351327</td>\n",
       "    </tr>\n",
       "    <tr>\n",
       "      <th>1</th>\n",
       "      <td>house_number</td>\n",
       "      <td>0</td>\n",
       "      <td>USA</td>\n",
       "      <td>web</td>\n",
       "      <td>windows</td>\n",
       "      <td>44714.0</td>\n",
       "      <td>59</td>\n",
       "      <td>friend_referral</td>\n",
       "      <td>1</td>\n",
       "      <td>America/New_York</td>\n",
       "      <td>2015-05-31 09:33:49</td>\n",
       "      <td>2015-05-31 13:33:49+00:00</td>\n",
       "      <td>477086</td>\n",
       "    </tr>\n",
       "    <tr>\n",
       "      <th>2</th>\n",
       "      <td>shop</td>\n",
       "      <td>0</td>\n",
       "      <td>USA</td>\n",
       "      <td>web</td>\n",
       "      <td>windows</td>\n",
       "      <td>60126.0</td>\n",
       "      <td>59</td>\n",
       "      <td>ads_other</td>\n",
       "      <td>1</td>\n",
       "      <td>America/Chicago</td>\n",
       "      <td>2015-05-10 04:11:17</td>\n",
       "      <td>2015-05-10 09:11:17+00:00</td>\n",
       "      <td>966104</td>\n",
       "    </tr>\n",
       "    <tr>\n",
       "      <th>3</th>\n",
       "      <td>leisure</td>\n",
       "      <td>0</td>\n",
       "      <td>USA</td>\n",
       "      <td>mobile</td>\n",
       "      <td>iOS</td>\n",
       "      <td>1965.0</td>\n",
       "      <td>39</td>\n",
       "      <td>seo-google</td>\n",
       "      <td>0</td>\n",
       "      <td>America/New_York</td>\n",
       "      <td>2015-04-02 18:05:24</td>\n",
       "      <td>2015-04-02 22:05:24+00:00</td>\n",
       "      <td>57066</td>\n",
       "    </tr>\n",
       "    <tr>\n",
       "      <th>4</th>\n",
       "      <td>NaN</td>\n",
       "      <td>0</td>\n",
       "      <td>NaN</td>\n",
       "      <td>web</td>\n",
       "      <td>windows</td>\n",
       "      <td>NaN</td>\n",
       "      <td>39</td>\n",
       "      <td>seo_facebook</td>\n",
       "      <td>0</td>\n",
       "      <td>NaN</td>\n",
       "      <td>2015-03-27 09:36:08</td>\n",
       "      <td>NaN</td>\n",
       "      <td>441679</td>\n",
       "    </tr>\n",
       "  </tbody>\n",
       "</table>\n",
       "</div>"
      ],
      "text/plain": [
       "  building_type converted country  device operative_system postcode price  \\\n",
       "0  house_number         0     USA     web          windows  14204.0    39   \n",
       "1  house_number         0     USA     web          windows  44714.0    59   \n",
       "2          shop         0     USA     web          windows  60126.0    59   \n",
       "3       leisure         0     USA  mobile              iOS   1965.0    39   \n",
       "4           NaN         0     NaN     web          windows      NaN    39   \n",
       "\n",
       "            source test         time_zone            timestamp  \\\n",
       "0     seo_facebook    0  America/New_York  2015-04-11 01:06:58   \n",
       "1  friend_referral    1  America/New_York  2015-05-31 09:33:49   \n",
       "2        ads_other    1   America/Chicago  2015-05-10 04:11:17   \n",
       "3       seo-google    0  America/New_York  2015-04-02 18:05:24   \n",
       "4     seo_facebook    0               NaN  2015-03-27 09:36:08   \n",
       "\n",
       "                timetamp_utc user_id  \n",
       "0  2015-04-11 05:06:58+00:00  351327  \n",
       "1  2015-05-31 13:33:49+00:00  477086  \n",
       "2  2015-05-10 09:11:17+00:00  966104  \n",
       "3  2015-04-02 22:05:24+00:00   57066  \n",
       "4                        NaN  441679  "
      ]
     },
     "execution_count": 102,
     "metadata": {},
     "output_type": "execute_result"
    }
   ],
   "source": [
    "dft = dft[(dft.test == '0') & (dft.price == '39') | (dft.test == '1') & (dft.price == '59')]\n",
    "display(HTML(\"<hr><font size = 3>Test results rows: \" + str(dft.shape[0])))\n",
    "display(HTML(\"<font size = 3>Test results columns: \" + str(dft.shape[1])))\n",
    "display (HTML('<hr>'))\n",
    "dft.head()\n",
    "#display (HTML(dft2.to_html()))"
   ]
  },
  {
   "cell_type": "code",
   "execution_count": 114,
   "metadata": {
    "scrolled": true
   },
   "outputs": [
    {
     "name": "stdout",
     "output_type": "stream",
     "text": [
      "0 100 200 300 400 500 600 700 800 900 1000 1100 1200 1300 1400 1500 1600 1700 1800 1900 2000 2100 2200 2300 2400 2500 2600 2700 2800 2900 3000 3100 3200 3300 3400 3500 3600 3700 3800 3900 4000 4100 4200 4300 4400 4500 4600 4700 4800 4900 5000 5100 5200 5300 5400 5500 5600 5700 5800 5900 6000 6100 6200 6300 6400 6500 6600 6700 6800 6900 7000 7100 7200 7300 7400 7500 7600 7700 7800 7900 8000 8100 8200 8300 8400 8500 8600 8700 8800 8900 9000 9100 9200 9300 9400 9500 9600 9700 9800 9900 10000 10100 10200 10300 10400 10500 10600 10700 10800 10900 11000 11100 11200 11300 11400 11500 11600 11700 11800 11900 12000 12100 12200 12300 12400 12500 12600 12700 12800 12900 13000 13100 13200 13300 13400 13500 13600 13700 13800 13900 14000 14100 14200 14300 14400 14500 14600 14700 14800 14900 15000 15100 15200 15300 15400 15500 15600 15700 15800 15900 16000 16100 16200 16300 16400 16500 16600 16700 16800 16900 17000 17100 17200 17300 17400 17500 17600 17700 17800 17900 18000 18100 18200 18300 18400 18500 18600 18700 18800 18900 19000 19100 19200 19300 19400 19500 19600 19700 19800 19900 20000 20100 20200 20300 20400 20500 20600 20700 20800 20900 21000 21100 21200 21300 21400 21500 21600 21700 21800 21900 22000 22100 22200 22300 22400 22500 22600 22700 22800 22900 23000 23100 23200 23300 23400 23500 23600 23700 23800 23900 24000 24100 24200 24300 24400 24500 24600 24700 24800 24900 25000 25100 25200 25300 25400 25500 25600 25700 25800 25900 26000 26100 26200 26300 26400 26500 26600 26700 26800 26900 27000 27100 27200 27300 27400 27500 27600 27700 27800 27900 28000 28100 28200 28300 28400 28500 28600 28700 28800 28900 29000 29100 29200 29300 29400 29500 29600 29700 29800 29900 30000 30100 30200 30300 30400 30500 30600 30700 30800 30900 31000 31100 31200 31300 31400 31500 31600 31700 31800 31900 32000 32100 32200 32300 32400 32500 32600 32700 32800 32900 33000 33100 33200 33300 33400 33500 33600 33700 33800 33900 34000 34100 34200 34300 34400 34500 34600 34700 34800 34900 35000 35100 35200 35300 35400 35500 35600 35700 35800 35900 36000 36100 36200 36300 36400 36500 36600 36700 36800 36900 37000 37100 37200 37300 37400 37500 37600 37700 37800 37900 38000 38100 38200 38300 38400 38500 38600 38700 38800 38900 39000 39100 39200 39300 39400 39500 39600 39700 39800 39900 40000 40100 40200 40300 40400 40500 40600 40700 40800 40900 41000 41100 41200 41300 41400 41500 41600 41700 41800 41900 42000 42100 42200 42300 42400 42500 42600 42700 42800 42900 43000 43100 43200 43300 43400 43500 43600 43700 43800 43900 44000 44100 44200 44300 44400 44500 44600 44700 44800 44900 45000 45100 45200 45300 45400 45500 45600 45700 45800 45900 46000 46100 46200 46300 46400 46500 46600 46700 46800 46900 47000 47100 47200 47300 47400 47500 47600 47700 47800 47900 48000 48100 48200 48300 48400 48500 48600 48700 48800 48900 49000 49100 49200 49300 49400 49500 49600 49700 49800 49900 50000 50100 50200 50300 50400 50500 50600 50700 50800 50900 51000 51100 51200 51300 51400 51500 51600 51700 51800 51900 52000 52100 52200 52300 52400 52500 52600 52700 52800 52900 53000 53100 53200 53300 53400 53500 53600 53700 53800 53900 54000 54100 54200 54300 54400 54500 54600 54700 54800 54900 55000 55100 55200 55300 55400 55500 55600 55700 55800 55900 56000 56100 56200 56300 56400 56500 56600 56700 56800 56900 57000 57100 57200 57300 57400 57500 57600 57700 57800 57900 58000 58100 58200 58300 58400 58500 58600 58700 58800 58900 59000 59100 59200 59300 59400 59500 59600 59700 59800 59900 60000 60100 60200 60300 60400 60500 60600 60700 60800 60900 61000 61100 61200 61300 61400 61500 61600 61700 61800 61900 62000 62100 62200 62300 62400 62500 62600 62700 62800 62900 63000 63100 63200 63300 63400 63500 63600 63700 63800 63900 64000 64100 64200 64300 64400 64500 64600 64700 64800 64900 65000 65100 65200 65300 65400 65500 65600 65700 65800 65900 66000 66100 66200 66300 66400 66500 66600 66700 66800 66900 67000 67100 67200 67300 67400 67500 67600 67700 67800 67900 68000 68100 68200 68300 68400 68500 68600 68700 68800 68900 69000 69100 69200 69300 69400 69500 69600 69700 69800 69900 70000 70100 70200 70300 70400 70500 70600 70700 70800 70900 71000 71100 71200 71300 71400 71500 71600 71700 71800 71900 72000 72100 72200 72300 72400 72500 72600 72700 72800 72900 73000 73100 73200 73300 73400 73500 73600 73700 73800 73900 74000 74100 74200 74300 74400 74500 74600 74700 74800 74900 75000 75100 75200 75300 75400 75500 75600 75700 75800 75900 76000 76100 76200 76300 76400 76500 76600 76700 76800 76900 77000 77100 77200 77300 77400 77500 77600 77700 77800 77900 78000 78100 78200 78300 78400 78500 78600 78700 78800 78900 79000 79100 79200 79300 79400 79500 79600 79700 79800 79900 80000 80100 80200 80300 80400 80500 80600 80700 80800 80900 81000 81100 81200 81300 81400 81500 81600 81700 81800 81900 82000 82100 82200 82300 82400 82500 82600 82700 82800 82900 83000 83100 83200 83300 83400 83500 83600 83700 83800 83900 84000 84100 84200 84300 84400 84500 84600 84700 84800 84900 85000 85100 85200 85300 85400 85500 85600 85700 85800 85900 86000 86100 86200 86300 86400 86500 86600 86700 86800 86900 87000 87100 87200 87300 87400 87500 87600 87700 87800 87900 88000 88100 88200 88300 88400 88500 88600 88700 88800 88900 89000 89100 89200 89300 89400 89500 89600 89700 89800 89900 90000 90100 90200 90300 90400 90500 90600 90700 90800 90900 91000 91100 91200 91300 91400 91500 91600 91700 91800 91900 92000 92100 92200 92300 92400 92500 92600 92700 92800 92900 93000 93100 93200 93300 93400 93500 93600 93700 93800 93900 94000 94100 94200 94300 94400 94500 94600 94700 94800 94900 95000 95100 95200 95300 95400 95500 95600 95700 95800 95900 96000 96100 96200 96300 96400 96500 96600 96700 96800 96900 97000 97100 97200 97300 97400 97500 97600 97700 97800 97900 98000 98100 98200 98300 98400 98500 98600 98700 98800 98900 99000 99100 99200 99300 99400 99500 99600 99700 99800 99900 100000 100100 100200 100300 100400 100500 100600 100700 100800 100900 101000 101100 101200 101300 101400 101500 101600 101700 101800 101900 102000 102100 102200 102300 102400 102500 102600 102700 102800 102900 103000 103100 103200 103300 103400 103500 103600 103700 103800 103900 104000 104100 104200 104300 104400 104500 104600 104700 104800 104900 105000 105100 105200 105300 105400 105500 105600 105700 105800 105900 106000 106100 106200 106300 106400 106500 106600 106700 106800 106900 107000 107100 107200 107300 107400 107500 107600 107700 107800 107900 108000 108100 108200 108300 108400 108500 108600 108700 108800 108900 109000 109100 109200 109300 109400 109500 109600 109700 109800 109900 110000 110100 110200 110300 110400 110500 110600 110700 110800 110900 111000 111100 111200 111300 111400 111500 111600 111700 111800 111900 112000 112100 112200 112300 112400 112500 112600 112700 112800 112900 113000 113100 113200 113300 113400 113500 113600 113700 113800 113900 114000 114100 114200 114300 114400 114500 114600 114700 114800 114900 115000 115100 115200 115300 115400 115500 115600 115700 115800 115900 116000 116100 116200 116300 116400 116500 116600 116700 116800 116900 117000 117100 117200 117300 117400 117500 117600 117700 117800 117900 118000 118100 118200 118300 118400 118500 118600 118700 118800 118900 119000 119100 119200 119300 119400 119500 119600 119700 119800 119900 120000 120100 120200 120300 120400 120500 120600 120700 120800 120900 121000 121100 121200 121300 121400 121500 121600 121700 121800 121900 122000 122100 122200 122300 122400 122500 122600 122700 122800 122900 123000 123100 123200 123300 123400 123500 123600 123700 123800 123900 124000 124100 124200 124300 124400 124500 124600 124700 124800 124900 125000 125100 125200 125300 125400 125500 125600 125700 125800 125900 126000 126100 126200 126300 126400 126500 126600 126700 126800 126900 127000 127100 127200 127300 127400 127500 127600 127700 127800 127900 128000 128100 128200 128300 128400 128500 128600 128700 128800 128900 129000 129100 129200 129300 129400 129500 129600 129700 129800 129900 130000 130100 130200 130300 130400 130500 130600 130700 130800 130900 131000 131100 131200 131300 131400 131500 131600 131700 131800 131900 132000 132100 132200 132300 132400 132500 132600 132700 132800 132900 "
     ]
    },
    {
     "name": "stdout",
     "output_type": "stream",
     "text": [
      "133000 133100 133200 133300 133400 133500 133600 133700 133800 133900 134000 134100 134200 134300 134400 134500 134600 134700 134800 134900 135000 135100 135200 135300 135400 135500 135600 135700 135800 135900 136000 136100 136200 136300 136400 136500 136600 136700 136800 136900 137000 137100 137200 137300 137400 137500 137600 137700 137800 137900 138000 138100 138200 138300 138400 138500 138600 138700 138800 138900 139000 139100 139200 139300 139400 139500 139600 139700 139800 139900 140000 140100 140200 140300 140400 140500 140600 140700 140800 140900 141000 141100 141200 141300 141400 141500 141600 141700 141800 141900 142000 142100 142200 142300 142400 142500 142600 142700 142800 142900 143000 143100 143200 143300 143400 143500 143600 143700 143800 143900 144000 144100 144200 144300 144400 144500 144600 144700 144800 144900 145000 145100 145200 145300 145400 145500 145600 145700 145800 145900 146000 146100 146200 146300 146400 146500 146600 146700 146800 146900 147000 147100 147200 147300 147400 147500 147600 147700 147800 147900 148000 148100 148200 148300 148400 148500 148600 148700 148800 148900 149000 149100 149200 149300 149400 149500 149600 149700 149800 149900 150000 150100 150200 150300 150400 150500 150600 150700 150800 150900 151000 151100 151200 151300 151400 151500 151600 151700 151800 151900 152000 152100 152200 152300 152400 152500 152600 152700 152800 152900 153000 153100 153200 153300 153400 153500 153600 153700 153800 153900 154000 154100 154200 154300 154400 154500 154600 154700 154800 154900 155000 155100 155200 155300 155400 155500 155600 155700 155800 155900 156000 156100 156200 156300 156400 156500 156600 156700 156800 156900 157000 157100 157200 157300 157400 157500 157600 157700 157800 157900 158000 158100 158200 158300 158400 158500 158600 158700 158800 158900 159000 159100 159200 159300 159400 159500 159600 159700 159800 159900 160000 160100 160200 160300 160400 160500 160600 160700 160800 160900 161000 161100 161200 161300 161400 161500 161600 161700 161800 161900 162000 162100 162200 162300 162400 162500 162600 162700 162800 162900 163000 163100 163200 163300 163400 163500 163600 163700 163800 163900 164000 164100 164200 164300 164400 164500 164600 164700 164800 164900 165000 165100 165200 165300 165400 165500 165600 165700 165800 165900 166000 166100 166200 166300 166400 166500 166600 166700 166800 166900 167000 167100 167200 167300 167400 167500 167600 167700 167800 167900 168000 168100 168200 168300 168400 168500 168600 168700 168800 168900 169000 169100 169200 169300 169400 169500 169600 169700 169800 169900 170000 170100 170200 170300 170400 170500 170600 170700 170800 170900 171000 171100 171200 171300 171400 171500 171600 171700 171800 171900 172000 172100 172200 172300 172400 172500 172600 172700 172800 172900 173000 173100 173200 173300 173400 173500 173600 173700 173800 173900 174000 174100 174200 174300 174400 174500 174600 174700 174800 174900 175000 175100 175200 175300 175400 175500 175600 175700 175800 175900 176000 176100 176200 176300 176400 176500 176600 176700 176800 176900 177000 177100 177200 177300 177400 177500 177600 177700 177800 177900 178000 178100 178200 178300 178400 178500 178600 178700 178800 178900 179000 179100 179200 179300 179400 179500 179600 179700 179800 179900 180000 180100 180200 180300 180400 180500 180600 180700 180800 180900 181000 181100 181200 181300 181400 181500 181600 181700 181800 181900 182000 182100 182200 182300 182400 182500 182600 182700 182800 182900 183000 183100 183200 183300 183400 183500 183600 183700 183800 183900 184000 184100 184200 184300 184400 184500 184600 184700 184800 184900 185000 185100 185200 185300 185400 185500 185600 185700 185800 185900 186000 186100 186200 186300 186400 186500 186600 186700 186800 186900 187000 187100 187200 187300 187400 187500 187600 187700 187800 187900 188000 188100 188200 188300 188400 188500 188600 188700 188800 188900 189000 189100 189200 189300 189400 189500 189600 189700 189800 189900 190000 190100 190200 190300 190400 190500 190600 190700 190800 190900 191000 191100 191200 191300 191400 191500 191600 191700 191800 191900 192000 192100 192200 192300 192400 192500 192600 192700 192800 192900 193000 193100 193200 193300 193400 193500 193600 193700 193800 193900 194000 194100 194200 194300 194400 194500 194600 194700 194800 194900 195000 195100 195200 195300 195400 195500 195600 195700 195800 195900 196000 196100 196200 196300 196400 196500 196600 196700 196800 196900 197000 197100 197200 197300 197400 197500 197600 197700 197800 197900 198000 198100 198200 198300 198400 198500 198600 198700 198800 198900 199000 199100 199200 199300 199400 199500 199600 199700 199800 199900 200000 200100 200200 200300 200400 200500 200600 200700 200800 200900 201000 201100 201200 201300 201400 201500 201600 201700 201800 201900 202000 202100 202200 202300 202400 202500 202600 202700 202800 202900 203000 203100 203200 203300 203400 203500 203600 203700 203800 203900 204000 204100 204200 204300 204400 204500 204600 204700 204800 204900 205000 205100 205200 205300 205400 205500 205600 205700 205800 205900 206000 206100 206200 206300 206400 206500 206600 206700 206800 206900 207000 207100 207200 207300 207400 207500 207600 207700 207800 207900 208000 208100 208200 208300 208400 208500 208600 208700 208800 208900 209000 209100 209200 209300 209400 209500 209600 209700 209800 209900 210000 210100 210200 210300 210400 210500 210600 210700 210800 210900 211000 211100 211200 211300 211400 211500 211600 211700 211800 211900 212000 212100 212200 212300 212400 212500 212600 212700 212800 212900 213000 213100 213200 213300 213400 213500 213600 213700 213800 213900 214000 214100 214200 214300 214400 214500 214600 214700 214800 214900 215000 215100 215200 215300 215400 215500 215600 215700 215800 215900 216000 216100 216200 216300 216400 216500 216600 216700 216800 216900 217000 217100 217200 217300 217400 217500 217600 217700 217800 217900 218000 218100 218200 218300 218400 218500 218600 218700 218800 218900 219000 219100 219200 219300 219400 219500 219600 219700 219800 219900 220000 220100 220200 220300 220400 220500 220600 220700 220800 220900 221000 221100 221200 221300 221400 221500 221600 221700 221800 221900 222000 222100 222200 222300 222400 222500 222600 222700 222800 222900 223000 223100 223200 223300 223400 223500 223600 223700 223800 223900 224000 224100 224200 224300 224400 224500 224600 224700 224800 224900 225000 225100 225200 225300 225400 225500 225600 225700 225800 225900 226000 226100 226200 226300 226400 226500 226600 226700 226800 226900 227000 227100 227200 227300 227400 227500 227600 227700 227800 227900 228000 228100 228200 228300 228400 228500 228600 228700 228800 228900 229000 229100 229200 229300 229400 229500 229600 229700 229800 229900 230000 230100 230200 230300 230400 230500 230600 230700 230800 230900 231000 231100 231200 231300 231400 231500 231600 231700 231800 231900 232000 232100 232200 232300 232400 232500 232600 232700 232800 232900 233000 233100 233200 233300 233400 233500 233600 233700 233800 233900 234000 234100 234200 234300 234400 234500 234600 234700 234800 234900 235000 235100 235200 235300 235400 235500 235600 235700 235800 235900 236000 236100 236200 236300 236400 236500 236600 236700 236800 236900 237000 237100 237200 237300 237400 237500 237600 237700 237800 237900 238000 238100 238200 238300 238400 238500 238600 238700 238800 238900 239000 239100 239200 239300 239400 239500 239600 239700 239800 239900 240000 240100 240200 240300 240400 240500 240600 240700 240800 240900 241000 241100 241200 241300 241400 241500 241600 241700 241800 241900 242000 242100 242200 242300 242400 242500 242600 242700 242800 242900 243000 243100 243200 243300 243400 243500 243600 243700 243800 243900 244000 244100 244200 244300 244400 244500 244600 244700 244800 244900 245000 245100 245200 245300 245400 245500 245600 245700 245800 245900 246000 246100 246200 246300 246400 246500 246600 246700 246800 246900 247000 247100 247200 247300 247400 247500 247600 247700 247800 247900 248000 248100 248200 248300 248400 248500 248600 248700 248800 248900 249000 249100 249200 249300 249400 249500 249600 249700 249800 249900 250000 "
     ]
    },
    {
     "name": "stdout",
     "output_type": "stream",
     "text": [
      "250100 250200 250300 250400 250500 250600 250700 250800 250900 251000 251100 251200 251300 251400 251500 251600 251700 251800 251900 252000 252100 252200 252300 252400 252500 252600 252700 252800 252900 253000 253100 253200 253300 253400 253500 253600 253700 253800 253900 254000 254100 254200 254300 254400 254500 254600 254700 254800 254900 255000 255100 255200 255300 255400 255500 255600 255700 255800 255900 256000 256100 256200 256300 256400 256500 256600 256700 256800 256900 257000 257100 257200 257300 257400 257500 257600 257700 257800 257900 258000 258100 258200 258300 258400 258500 258600 258700 258800 258900 259000 259100 259200 259300 259400 259500 259600 259700 259800 259900 260000 260100 260200 260300 260400 260500 260600 260700 260800 260900 261000 261100 261200 261300 261400 261500 261600 261700 261800 261900 262000 262100 262200 262300 262400 262500 262600 262700 262800 262900 263000 263100 263200 263300 263400 263500 263600 263700 263800 263900 264000 264100 264200 264300 264400 264500 264600 264700 264800 264900 265000 265100 265200 265300 265400 265500 265600 265700 265800 265900 266000 266100 266200 266300 266400 266500 266600 266700 266800 266900 267000 267100 267200 267300 267400 267500 267600 267700 267800 267900 268000 268100 268200 268300 268400 268500 268600 268700 268800 268900 269000 269100 269200 269300 269400 269500 269600 269700 269800 269900 270000 270100 270200 270300 270400 270500 270600 270700 270800 270900 271000 271100 271200 271300 271400 271500 271600 271700 271800 271900 272000 272100 272200 272300 272400 272500 272600 272700 272800 272900 273000 273100 273200 273300 273400 273500 273600 273700 273800 273900 274000 274100 274200 274300 274400 274500 274600 274700 274800 274900 275000 275100 275200 275300 275400 275500 275600 275700 275800 275900 276000 276100 276200 276300 276400 276500 276600 276700 276800 276900 277000 277100 277200 277300 277400 277500 277600 277700 277800 277900 278000 278100 278200 278300 278400 278500 278600 278700 278800 278900 279000 279100 279200 279300 279400 279500 279600 279700 279800 279900 280000 280100 280200 280300 280400 280500 280600 280700 280800 280900 281000 281100 281200 281300 281400 281500 281600 281700 281800 281900 282000 282100 282200 282300 282400 282500 282600 282700 282800 282900 283000 283100 283200 283300 283400 283500 283600 283700 283800 283900 284000 284100 284200 284300 284400 284500 284600 284700 284800 284900 285000 285100 285200 285300 285400 285500 285600 285700 285800 285900 286000 286100 286200 286300 286400 286500 286600 286700 286800 286900 287000 287100 287200 287300 287400 287500 287600 287700 287800 287900 288000 288100 288200 288300 288400 288500 288600 288700 288800 288900 289000 289100 289200 289300 289400 289500 289600 289700 289800 289900 290000 290100 290200 290300 290400 290500 290600 290700 290800 290900 291000 291100 291200 291300 291400 291500 291600 291700 291800 291900 292000 292100 292200 292300 292400 292500 292600 292700 292800 292900 293000 293100 293200 293300 293400 293500 293600 293700 293800 293900 294000 294100 294200 294300 294400 294500 294600 294700 294800 294900 295000 295100 295200 295300 295400 295500 295600 295700 295800 295900 296000 296100 296200 296300 296400 296500 296600 296700 296800 296900 297000 297100 297200 297300 297400 297500 297600 297700 297800 297900 298000 298100 298200 298300 298400 298500 298600 298700 298800 298900 299000 299100 299200 299300 299400 299500 299600 299700 299800 299900 300000 300100 300200 300300 300400 300500 300600 300700 300800 300900 301000 301100 301200 301300 301400 301500 301600 301700 301800 301900 302000 302100 302200 302300 302400 302500 302600 302700 302800 302900 303000 303100 303200 303300 303400 303500 303600 303700 303800 303900 304000 304100 304200 304300 304400 304500 304600 304700 304800 304900 305000 305100 305200 305300 305400 305500 305600 305700 305800 305900 306000 306100 306200 306300 306400 306500 306600 306700 306800 306900 307000 307100 307200 307300 307400 307500 307600 307700 307800 307900 308000 308100 308200 308300 308400 308500 308600 308700 308800 308900 309000 309100 309200 309300 309400 309500 309600 309700 309800 309900 310000 310100 310200 310300 310400 310500 310600 310700 310800 310900 311000 311100 311200 311300 311400 311500 311600 311700 311800 311900 312000 312100 312200 312300 312400 312500 312600 312700 312800 312900 313000 313100 313200 313300 313400 313500 313600 313700 313800 313900 314000 314100 314200 314300 314400 314500 314600 314700 314800 314900 315000 315100 315200 315300 315400 315500 315600 315700 315800 315900 316000 316100 316200 316300 316400 "
     ]
    },
    {
     "data": {
      "text/html": [
       "<div>\n",
       "<style scoped>\n",
       "    .dataframe tbody tr th:only-of-type {\n",
       "        vertical-align: middle;\n",
       "    }\n",
       "\n",
       "    .dataframe tbody tr th {\n",
       "        vertical-align: top;\n",
       "    }\n",
       "\n",
       "    .dataframe thead th {\n",
       "        text-align: right;\n",
       "    }\n",
       "</style>\n",
       "<table border=\"1\" class=\"dataframe\">\n",
       "  <thead>\n",
       "    <tr style=\"text-align: right;\">\n",
       "      <th></th>\n",
       "      <th>building_type</th>\n",
       "      <th>converted</th>\n",
       "      <th>country</th>\n",
       "      <th>device</th>\n",
       "      <th>operative_system</th>\n",
       "      <th>postcode</th>\n",
       "      <th>price</th>\n",
       "      <th>source</th>\n",
       "      <th>test</th>\n",
       "      <th>time_zone</th>\n",
       "      <th>timestamp</th>\n",
       "      <th>timetamp_utc</th>\n",
       "      <th>user_id</th>\n",
       "      <th>city</th>\n",
       "      <th>state</th>\n",
       "      <th>lat</th>\n",
       "      <th>long</th>\n",
       "      <th>nearest_city</th>\n",
       "    </tr>\n",
       "  </thead>\n",
       "  <tbody>\n",
       "    <tr>\n",
       "      <th>0</th>\n",
       "      <td>house_number</td>\n",
       "      <td>0</td>\n",
       "      <td>USA</td>\n",
       "      <td>web</td>\n",
       "      <td>windows</td>\n",
       "      <td>14204.0</td>\n",
       "      <td>39</td>\n",
       "      <td>seo_facebook</td>\n",
       "      <td>0</td>\n",
       "      <td>America/New_York</td>\n",
       "      <td>2015-04-11 01:06:58</td>\n",
       "      <td>2015-04-11 05:06:58+00:00</td>\n",
       "      <td>351327</td>\n",
       "      <td>Buffalo</td>\n",
       "      <td>New York</td>\n",
       "      <td>42.89</td>\n",
       "      <td>-78.86</td>\n",
       "      <td>Buffalo</td>\n",
       "    </tr>\n",
       "    <tr>\n",
       "      <th>1</th>\n",
       "      <td>house_number</td>\n",
       "      <td>0</td>\n",
       "      <td>USA</td>\n",
       "      <td>web</td>\n",
       "      <td>windows</td>\n",
       "      <td>44714.0</td>\n",
       "      <td>59</td>\n",
       "      <td>friend_referral</td>\n",
       "      <td>1</td>\n",
       "      <td>America/New_York</td>\n",
       "      <td>2015-05-31 09:33:49</td>\n",
       "      <td>2015-05-31 13:33:49+00:00</td>\n",
       "      <td>477086</td>\n",
       "      <td>Canton</td>\n",
       "      <td>Ohio</td>\n",
       "      <td>40.81</td>\n",
       "      <td>-81.37</td>\n",
       "      <td>Canton</td>\n",
       "    </tr>\n",
       "    <tr>\n",
       "      <th>2</th>\n",
       "      <td>shop</td>\n",
       "      <td>0</td>\n",
       "      <td>USA</td>\n",
       "      <td>web</td>\n",
       "      <td>windows</td>\n",
       "      <td>60126.0</td>\n",
       "      <td>59</td>\n",
       "      <td>ads_other</td>\n",
       "      <td>1</td>\n",
       "      <td>America/Chicago</td>\n",
       "      <td>2015-05-10 04:11:17</td>\n",
       "      <td>2015-05-10 09:11:17+00:00</td>\n",
       "      <td>966104</td>\n",
       "      <td>Elmhurst</td>\n",
       "      <td>Illinois</td>\n",
       "      <td>41.9</td>\n",
       "      <td>-87.94</td>\n",
       "      <td>nan</td>\n",
       "    </tr>\n",
       "    <tr>\n",
       "      <th>3</th>\n",
       "      <td>leisure</td>\n",
       "      <td>0</td>\n",
       "      <td>USA</td>\n",
       "      <td>mobile</td>\n",
       "      <td>iOS</td>\n",
       "      <td>1965.0</td>\n",
       "      <td>39</td>\n",
       "      <td>seo-google</td>\n",
       "      <td>0</td>\n",
       "      <td>America/New_York</td>\n",
       "      <td>2015-04-02 18:05:24</td>\n",
       "      <td>2015-04-02 22:05:24+00:00</td>\n",
       "      <td>57066</td>\n",
       "      <td>Beverly</td>\n",
       "      <td>Massachusetts</td>\n",
       "      <td>42.56</td>\n",
       "      <td>-70.84</td>\n",
       "      <td>nan</td>\n",
       "    </tr>\n",
       "    <tr>\n",
       "      <th>4</th>\n",
       "      <td>NaN</td>\n",
       "      <td>0</td>\n",
       "      <td>NaN</td>\n",
       "      <td>web</td>\n",
       "      <td>windows</td>\n",
       "      <td>NaN</td>\n",
       "      <td>39</td>\n",
       "      <td>seo_facebook</td>\n",
       "      <td>0</td>\n",
       "      <td>NaN</td>\n",
       "      <td>2015-03-27 09:36:08</td>\n",
       "      <td>NaN</td>\n",
       "      <td>441679</td>\n",
       "      <td></td>\n",
       "      <td></td>\n",
       "      <td></td>\n",
       "      <td></td>\n",
       "      <td></td>\n",
       "    </tr>\n",
       "  </tbody>\n",
       "</table>\n",
       "</div>"
      ],
      "text/plain": [
       "  building_type converted country  device operative_system postcode price  \\\n",
       "0  house_number         0     USA     web          windows  14204.0    39   \n",
       "1  house_number         0     USA     web          windows  44714.0    59   \n",
       "2          shop         0     USA     web          windows  60126.0    59   \n",
       "3       leisure         0     USA  mobile              iOS   1965.0    39   \n",
       "4           NaN         0     NaN     web          windows      NaN    39   \n",
       "\n",
       "            source test         time_zone            timestamp  \\\n",
       "0     seo_facebook    0  America/New_York  2015-04-11 01:06:58   \n",
       "1  friend_referral    1  America/New_York  2015-05-31 09:33:49   \n",
       "2        ads_other    1   America/Chicago  2015-05-10 04:11:17   \n",
       "3       seo-google    0  America/New_York  2015-04-02 18:05:24   \n",
       "4     seo_facebook    0               NaN  2015-03-27 09:36:08   \n",
       "\n",
       "                timetamp_utc user_id      city          state    lat    long  \\\n",
       "0  2015-04-11 05:06:58+00:00  351327   Buffalo       New York  42.89  -78.86   \n",
       "1  2015-05-31 13:33:49+00:00  477086    Canton           Ohio  40.81  -81.37   \n",
       "2  2015-05-10 09:11:17+00:00  966104  Elmhurst       Illinois   41.9  -87.94   \n",
       "3  2015-04-02 22:05:24+00:00   57066   Beverly  Massachusetts  42.56  -70.84   \n",
       "4                        NaN  441679                                           \n",
       "\n",
       "  nearest_city  \n",
       "0      Buffalo  \n",
       "1       Canton  \n",
       "2          nan  \n",
       "3          nan  \n",
       "4               "
      ]
     },
     "execution_count": 114,
     "metadata": {},
     "output_type": "execute_result"
    }
   ],
   "source": [
    "dft['city'] = ''\n",
    "dft['state'] = ''\n",
    "dft['lat'] = ''\n",
    "dft['long'] = ''\n",
    "dft['nearest_city'] = ''\n",
    "i = 0\n",
    "for index, row in dft.iterrows():\n",
    "    if i % 100 == 0:\n",
    "        print (i, end = ' ')\n",
    "    dft.at[index,'city'] = str(dfu[dfu.user_id == str(row.user_id)].city.values).strip(\"['']\")\n",
    "    dft.at[index,'state'] = str(dfu[dfu.user_id == str(row.user_id)].state.values).strip(\"['']\")\n",
    "    dft.at[index,'lat'] = str(dfu[dfu.user_id == str(row.user_id)].lat.values).strip(\"['']\")\n",
    "    dft.at[index,'long'] = str(dfu[dfu.user_id == str(row.user_id)].long.values).strip(\"['']\")\n",
    "    dft.at[index,'nearest_city'] = str(dfu[dfu.user_id == str(row.user_id)].nearest_city.values).strip(\"['']\")\n",
    "    i += 1\n",
    "dft.head()"
   ]
  },
  {
   "cell_type": "code",
   "execution_count": 115,
   "metadata": {},
   "outputs": [],
   "source": [
    "dft.to_csv('/Users/haleyspeed/Docs/insight/data_challenges/data/pricing/complete_price_data.csv', index = False)"
   ]
  },
  {
   "cell_type": "code",
   "execution_count": 119,
   "metadata": {},
   "outputs": [
    {
     "data": {
      "text/html": [
       "<div>\n",
       "<style scoped>\n",
       "    .dataframe tbody tr th:only-of-type {\n",
       "        vertical-align: middle;\n",
       "    }\n",
       "\n",
       "    .dataframe tbody tr th {\n",
       "        vertical-align: top;\n",
       "    }\n",
       "\n",
       "    .dataframe thead th {\n",
       "        text-align: right;\n",
       "    }\n",
       "</style>\n",
       "<table border=\"1\" class=\"dataframe\">\n",
       "  <thead>\n",
       "    <tr style=\"text-align: right;\">\n",
       "      <th></th>\n",
       "      <th>building_type</th>\n",
       "      <th>converted</th>\n",
       "      <th>country</th>\n",
       "      <th>device</th>\n",
       "      <th>operative_system</th>\n",
       "      <th>postcode</th>\n",
       "      <th>price</th>\n",
       "      <th>source</th>\n",
       "      <th>test</th>\n",
       "      <th>time_zone</th>\n",
       "      <th>timestamp</th>\n",
       "      <th>timetamp_utc</th>\n",
       "      <th>user_id</th>\n",
       "      <th>city</th>\n",
       "      <th>state</th>\n",
       "      <th>lat</th>\n",
       "      <th>long</th>\n",
       "      <th>nearest_city</th>\n",
       "    </tr>\n",
       "  </thead>\n",
       "  <tbody>\n",
       "    <tr>\n",
       "      <th>0</th>\n",
       "      <td>house_number</td>\n",
       "      <td>0</td>\n",
       "      <td>USA</td>\n",
       "      <td>web</td>\n",
       "      <td>windows</td>\n",
       "      <td>14204.0</td>\n",
       "      <td>39</td>\n",
       "      <td>seo_facebook</td>\n",
       "      <td>0</td>\n",
       "      <td>America/New_York</td>\n",
       "      <td>2015-04-11 01:06:58</td>\n",
       "      <td>2015-04-11 05:06:58+00:00</td>\n",
       "      <td>351327</td>\n",
       "      <td>Buffalo</td>\n",
       "      <td>New York</td>\n",
       "      <td>42.89</td>\n",
       "      <td>-78.86</td>\n",
       "      <td>Buffalo</td>\n",
       "    </tr>\n",
       "    <tr>\n",
       "      <th>1</th>\n",
       "      <td>house_number</td>\n",
       "      <td>0</td>\n",
       "      <td>USA</td>\n",
       "      <td>web</td>\n",
       "      <td>windows</td>\n",
       "      <td>44714.0</td>\n",
       "      <td>59</td>\n",
       "      <td>friend_referral</td>\n",
       "      <td>1</td>\n",
       "      <td>America/New_York</td>\n",
       "      <td>2015-05-31 09:33:49</td>\n",
       "      <td>2015-05-31 13:33:49+00:00</td>\n",
       "      <td>477086</td>\n",
       "      <td>Canton</td>\n",
       "      <td>Ohio</td>\n",
       "      <td>40.81</td>\n",
       "      <td>-81.37</td>\n",
       "      <td>Canton</td>\n",
       "    </tr>\n",
       "    <tr>\n",
       "      <th>2</th>\n",
       "      <td>shop</td>\n",
       "      <td>0</td>\n",
       "      <td>USA</td>\n",
       "      <td>web</td>\n",
       "      <td>windows</td>\n",
       "      <td>60126.0</td>\n",
       "      <td>59</td>\n",
       "      <td>ads_other</td>\n",
       "      <td>1</td>\n",
       "      <td>America/Chicago</td>\n",
       "      <td>2015-05-10 04:11:17</td>\n",
       "      <td>2015-05-10 09:11:17+00:00</td>\n",
       "      <td>966104</td>\n",
       "      <td>Elmhurst</td>\n",
       "      <td>Illinois</td>\n",
       "      <td>41.9</td>\n",
       "      <td>-87.94</td>\n",
       "      <td>nan</td>\n",
       "    </tr>\n",
       "    <tr>\n",
       "      <th>3</th>\n",
       "      <td>leisure</td>\n",
       "      <td>0</td>\n",
       "      <td>USA</td>\n",
       "      <td>mobile</td>\n",
       "      <td>iOS</td>\n",
       "      <td>1965.0</td>\n",
       "      <td>39</td>\n",
       "      <td>seo-google</td>\n",
       "      <td>0</td>\n",
       "      <td>America/New_York</td>\n",
       "      <td>2015-04-02 18:05:24</td>\n",
       "      <td>2015-04-02 22:05:24+00:00</td>\n",
       "      <td>57066</td>\n",
       "      <td>Beverly</td>\n",
       "      <td>Massachusetts</td>\n",
       "      <td>42.56</td>\n",
       "      <td>-70.84</td>\n",
       "      <td>nan</td>\n",
       "    </tr>\n",
       "    <tr>\n",
       "      <th>4</th>\n",
       "      <td>NaN</td>\n",
       "      <td>0</td>\n",
       "      <td>NaN</td>\n",
       "      <td>web</td>\n",
       "      <td>windows</td>\n",
       "      <td>NaN</td>\n",
       "      <td>39</td>\n",
       "      <td>seo_facebook</td>\n",
       "      <td>0</td>\n",
       "      <td>NaN</td>\n",
       "      <td>2015-03-27 09:36:08</td>\n",
       "      <td>NaN</td>\n",
       "      <td>441679</td>\n",
       "      <td></td>\n",
       "      <td></td>\n",
       "      <td></td>\n",
       "      <td></td>\n",
       "      <td></td>\n",
       "    </tr>\n",
       "  </tbody>\n",
       "</table>\n",
       "</div>"
      ],
      "text/plain": [
       "  building_type converted country  device operative_system postcode price  \\\n",
       "0  house_number         0     USA     web          windows  14204.0    39   \n",
       "1  house_number         0     USA     web          windows  44714.0    59   \n",
       "2          shop         0     USA     web          windows  60126.0    59   \n",
       "3       leisure         0     USA  mobile              iOS   1965.0    39   \n",
       "4           NaN         0     NaN     web          windows      NaN    39   \n",
       "\n",
       "            source test         time_zone            timestamp  \\\n",
       "0     seo_facebook    0  America/New_York  2015-04-11 01:06:58   \n",
       "1  friend_referral    1  America/New_York  2015-05-31 09:33:49   \n",
       "2        ads_other    1   America/Chicago  2015-05-10 04:11:17   \n",
       "3       seo-google    0  America/New_York  2015-04-02 18:05:24   \n",
       "4     seo_facebook    0               NaN  2015-03-27 09:36:08   \n",
       "\n",
       "                timetamp_utc user_id      city          state    lat    long  \\\n",
       "0  2015-04-11 05:06:58+00:00  351327   Buffalo       New York  42.89  -78.86   \n",
       "1  2015-05-31 13:33:49+00:00  477086    Canton           Ohio  40.81  -81.37   \n",
       "2  2015-05-10 09:11:17+00:00  966104  Elmhurst       Illinois   41.9  -87.94   \n",
       "3  2015-04-02 22:05:24+00:00   57066   Beverly  Massachusetts  42.56  -70.84   \n",
       "4                        NaN  441679                                           \n",
       "\n",
       "  nearest_city  \n",
       "0      Buffalo  \n",
       "1       Canton  \n",
       "2          nan  \n",
       "3          nan  \n",
       "4               "
      ]
     },
     "execution_count": 119,
     "metadata": {},
     "output_type": "execute_result"
    }
   ],
   "source": [
    "dft.shape\n",
    "dft.head()"
   ]
  },
  {
   "cell_type": "markdown",
   "metadata": {},
   "source": [
    "# Customer distributions"
   ]
  },
  {
   "cell_type": "markdown",
   "metadata": {},
   "source": [
    "#### Define function for visualizing distributions by new/old price"
   ]
  },
  {
   "cell_type": "code",
   "execution_count": 352,
   "metadata": {},
   "outputs": [],
   "source": [
    "def dist_by_price(dft):\n",
    "    fig, ax = plt.subplots (2, 3, figsize = (20,20))\n",
    "    cols = ['building_type','operative_system', \n",
    "            'converted','device', 'source']\n",
    "    \n",
    "    i = 0\n",
    "    j = 0\n",
    "    for col in cols:\n",
    "        tmp = dft.groupby([col,'price']).count()\n",
    "        tmp = tmp.reset_index()\n",
    "        if col == 'building_type': # first and last columns are empty and nonsensical\n",
    "            ax[i,j].bar(tmp[col][tmp.price == '39'][1:-1], height = tmp.user_id[tmp.price == '39'][1:-1], \n",
    "                    alpha = 0.5, label = '$39')\n",
    "            ax[i,j].bar(tmp[col][tmp.price == '59'][1:-1], height = tmp.user_id[tmp.price == '59'][1:-1],  \n",
    "                    label = '$59', color = 'indigo',alpha = 0.5)\n",
    "        else:\n",
    "            ax[i,j].bar(tmp[col][tmp.price == '39'], height = tmp.user_id[tmp.price == '39'], \n",
    "                    alpha = 0.5, label = '$39')\n",
    "            ax[i,j].bar(tmp[col][tmp.price == '59'], height = tmp.user_id[tmp.price == '59'],  \n",
    "                    label = '$59', color = 'indigo',alpha = 0.5)\n",
    "        ax[i,j].tick_params(axis = 'x',labelsize = 15, rotation = 90)\n",
    "        ax[i,j].set_xlabel (col, fontsize = 15)\n",
    "        handles, labels = ax[i,j].get_legend_handles_labels()\n",
    "        ax[i,j].legend(handles,labels, fontsize = 20)\n",
    "        if j == 2:\n",
    "            i += 1\n",
    "            j = 0\n",
    "        else:\n",
    "            j += 1\n",
    "    plt.tight_layout()"
   ]
  },
  {
   "cell_type": "code",
   "execution_count": 353,
   "metadata": {},
   "outputs": [
    {
     "data": {
      "image/png": "[encoded data removed]",
      "text/plain": [
       "<Figure size 1440x1440 with 6 Axes>"
      ]
     },
     "metadata": {
      "needs_background": "light"
     },
     "output_type": "display_data"
    }
   ],
   "source": [
    "dist_by_price(dft)"
   ]
  },
  {
   "cell_type": "code",
   "execution_count": 354,
   "metadata": {},
   "outputs": [
    {
     "data": {
      "image/png": "[encoded data removed]",
      "text/plain": [
       "<Figure size 1440x1440 with 1 Axes>"
      ]
     },
     "metadata": {
      "needs_background": "light"
     },
     "output_type": "display_data"
    }
   ],
   "source": [
    "plot_map(dft.dropna())"
   ]
  },
  {
   "cell_type": "markdown",
   "metadata": {},
   "source": [
    "# AB Testing"
   ]
  },
  {
   "cell_type": "markdown",
   "metadata": {},
   "source": [
    "#### Conversion rate calculations"
   ]
  },
  {
   "cell_type": "code",
   "execution_count": 296,
   "metadata": {},
   "outputs": [],
   "source": [
    "num_seeing_39 = dft[dft.price == '39'].price.shape[0]\n",
    "num_seeing_59 = dft[dft.price == '59'].price.shape[0]\n",
    "total_seen = dft.shape[0]\n",
    "\n",
    "num_converted_39 = dft[(dft.price == '39') & (dft.converted == '1')].price.shape[0] \n",
    "num_converted_59 = dft[(dft.price == '59') & (dft.converted == '1')].price.shape[0]\n",
    "total_converted = dft[dft.converted == '1'].price.shape[0]\n",
    "conversion_rate = total_converted/dft.shape[0] * 100\n",
    "    \n",
    "overall_conversion_rate_39 = num_converted_39 / total_converted * 100 \n",
    "overall_conversion_rate_59 = num_converted_59 / total_converted * 100\n",
    "\n",
    "group_conversion_rate_39 = num_converted_39 / num_seeing_39 * 100 \n",
    "group_conversion_rate_59 = num_converted_59 / num_seeing_59 * 100\n",
    "        \n",
    "freq_seeing_39 = num_seeing_39 / dft.price.shape[0] * 100\n",
    "freq_seeing_59 = num_seeing_59 / dft.price.shape[0] * 100\n",
    "    \n",
    "profit_per_visit_39 = 39 * (num_converted_39/num_seeing_39)\n",
    "profit_per_visit_59 = 59 * (num_converted_59/num_seeing_59)\n",
    "    "
   ]
  },
  {
   "cell_type": "code",
   "execution_count": 248,
   "metadata": {},
   "outputs": [
    {
     "data": {
      "text/html": [
       "<hr><font color = 'blue'><h3>Findings: Based on overall data, the price \n",
       "            increase is a good strategy.</h3><br><font size = 3>\n",
       "            <li> The majority of purchases were from home addresses using mobile OS or Windows. \n",
       "            <li> Far fewer visitors go on to buy the product.\n",
       "            <li> Direct traffic and ads were the most frequent means of traffic, followed by searches.\n",
       "            <li> The new price is driving a smaller number of sales, causing a decrease in revenue."
      ],
      "text/plain": [
       "<IPython.core.display.HTML object>"
      ]
     },
     "metadata": {},
     "output_type": "display_data"
    },
    {
     "data": {
      "text/html": [
       "<ul><font color = 'blue'> <font size = 3>64.0<font color = 'blue'> <font size = 3>% of vistors saw the low price."
      ],
      "text/plain": [
       "<IPython.core.display.HTML object>"
      ]
     },
     "metadata": {},
     "output_type": "display_data"
    },
    {
     "data": {
      "text/html": [
       "<ul><font color = 'blue'> <font size = 3>36.0<font color = 'blue'> <font size = 3>% of vistors saw the high price."
      ],
      "text/plain": [
       "<IPython.core.display.HTML object>"
      ]
     },
     "metadata": {},
     "output_type": "display_data"
    },
    {
     "data": {
      "text/html": [
       "<ul><font color = 'blue'> <font size = 3>69.46<font color = 'blue'> <font size = 3>% of conversions were at the low price."
      ],
      "text/plain": [
       "<IPython.core.display.HTML object>"
      ]
     },
     "metadata": {},
     "output_type": "display_data"
    },
    {
     "data": {
      "text/html": [
       "<ul><font color = 'blue'> <font size = 3>30.54<font color = 'blue'> <font size = 3>% of conversion were at the high price."
      ],
      "text/plain": [
       "<IPython.core.display.HTML object>"
      ]
     },
     "metadata": {},
     "output_type": "display_data"
    },
    {
     "data": {
      "text/html": [
       "<ul><font color = 'blue'> <font size = 3>1.83<font color = 'blue'> <font size = 3>% overall conversion rate."
      ],
      "text/plain": [
       "<IPython.core.display.HTML object>"
      ]
     },
     "metadata": {},
     "output_type": "display_data"
    },
    {
     "data": {
      "text/html": [
       "<ul><font color = 'blue'> <font size = 3>1.99<font color = 'blue'> <font size = 3>% conversion rate at the low price."
      ],
      "text/plain": [
       "<IPython.core.display.HTML object>"
      ]
     },
     "metadata": {},
     "output_type": "display_data"
    },
    {
     "data": {
      "text/html": [
       "<ul><font color = 'blue'> <font size = 3>1.56<font color = 'blue'> <font size = 3>% conversion rate at the high price."
      ],
      "text/plain": [
       "<IPython.core.display.HTML object>"
      ]
     },
     "metadata": {},
     "output_type": "display_data"
    },
    {
     "data": {
      "text/html": [
       "<ul><font color = 'blue'> <font size = 3>$0.78<font color = 'blue'> <font size = 3>profit per visit at the low price."
      ],
      "text/plain": [
       "<IPython.core.display.HTML object>"
      ]
     },
     "metadata": {},
     "output_type": "display_data"
    },
    {
     "data": {
      "text/html": [
       "<ul><font color = 'blue'> <font size = 3>$0.92<font color = 'blue'> <font size = 3>profit per visit at the high price."
      ],
      "text/plain": [
       "<IPython.core.display.HTML object>"
      ]
     },
     "metadata": {},
     "output_type": "display_data"
    },
    {
     "data": {
      "text/html": [
       "<font size = 3><font color = blue><strong> The challenge discription said that \n",
       "             33% of visitors saw the new price and %66 saw the old price. After correcting for mismatched\n",
       "             price/test values, the actual ratio was 64/36%. With this correction, the new price nets 14% \n",
       "             more revenue per visitor than the old price per visitor."
      ],
      "text/plain": [
       "<IPython.core.display.HTML object>"
      ]
     },
     "metadata": {},
     "output_type": "display_data"
    }
   ],
   "source": [
    "display(HTML(\"\"\"<hr><font color = 'blue'><h3>Findings: Based on overall data, the price \n",
    "            increase is a good strategy.</h3><br><font size = 3>\n",
    "            <li> The majority of purchases were from home addresses using mobile OS or Windows. \n",
    "            <li> Far fewer visitors go on to buy the product.\n",
    "            <li> Direct traffic and ads were the most frequent means of traffic, followed by searches.\n",
    "            <li> The new price is driving a smaller number of sales, causing a decrease in revenue.\"\"\"))\n",
    "display(HTML(\"<ul><font color = 'blue'> <font size = 3>\" + str(round(percent_0,2)) + \n",
    "             \"\"\"<font color = 'blue'> <font size = 3>% of vistors saw the low price.\"\"\"))\n",
    "display(HTML(\"<ul><font color = 'blue'> <font size = 3>\" + str(round(100-percent_0,2)) + \n",
    "             \"\"\"<font color = 'blue'> <font size = 3>% of vistors saw the high price.\"\"\"))\n",
    "display(HTML(\"<ul><font color = 'blue'> <font size = 3>\" + str(round(overall_conversion_rate_39,2)) + \n",
    "             \"\"\"<font color = 'blue'> <font size = 3>% of conversions were at the low price.\"\"\"))\n",
    "display(HTML(\"<ul><font color = 'blue'> <font size = 3>\" + str(round(overall_conversion_rate_59,2)) + \n",
    "             \"\"\"<font color = 'blue'> <font size = 3>% of conversion were at the high price.\"\"\"))\n",
    "display(HTML(\"<ul><font color = 'blue'> <font size = 3>\" + str(round(conversion_rate,2)) + \n",
    "             \"\"\"<font color = 'blue'> <font size = 3>% overall conversion rate.\"\"\"))\n",
    "display(HTML(\"<ul><font color = 'blue'> <font size = 3>\" + str(round(group_conversion_rate_39,2)) + \n",
    "             \"\"\"<font color = 'blue'> <font size = 3>% conversion rate at the low price.\"\"\"))\n",
    "display(HTML(\"<ul><font color = 'blue'> <font size = 3>\" + str(round(group_conversion_rate_59,2)) + \n",
    "             \"\"\"<font color = 'blue'> <font size = 3>% conversion rate at the high price.\"\"\"))\n",
    "display(HTML(\"<ul><font color = 'blue'> <font size = 3>$\" + str(round(profit_per_visit_39,2)) + \n",
    "             \"\"\"<font color = 'blue'> <font size = 3>profit per visit at the low price.\"\"\"))\n",
    "display(HTML(\"<ul><font color = 'blue'> <font size = 3>$\" + str(round(profit_per_visit_59,2)) + \n",
    "             \"\"\"<font color = 'blue'> <font size = 3>profit per visit at the high price.\"\"\"))\n",
    "display(HTML(\"\"\"<font size = 3><font color = blue><strong> The challenge discription said that \n",
    "             33% of visitors saw the new price and %66 saw the old price. After correcting for mismatched\n",
    "             price/test values, the actual ratio was 64/36%. With this correction, the new price nets 14% \n",
    "             more revenue per visitor than the old price per visitor.\"\"\"))"
   ]
  },
  {
   "cell_type": "markdown",
   "metadata": {},
   "source": [
    "# Hypothesis testing to see whether the new price is a significant change"
   ]
  },
  {
   "cell_type": "markdown",
   "metadata": {},
   "source": [
    "### Power Analysis"
   ]
  },
  {
   "cell_type": "code",
   "execution_count": 467,
   "metadata": {},
   "outputs": [
    {
     "data": {
      "text/html": [
       "<hr><font size = 3><font color = 'blue'> Minimum sample size per group: 8632.292 visitors <hr>"
      ],
      "text/plain": [
       "<IPython.core.display.HTML object>"
      ]
     },
     "metadata": {},
     "output_type": "display_data"
    }
   ],
   "source": [
    "import statsmodels.api as sm\n",
    "import statsmodels.stats.power as smso\n",
    "baseline_rate = num_converted_39/num_seeing_39\n",
    "practical_significance = 0.01 \n",
    "confidence_level = 0.05 \n",
    "sensitivity = 0.85 \n",
    "\n",
    "effect_size = sm.stats.proportion_effectsize(baseline_conversion_rate, \n",
    "              baseline_conversion_rate + practical_significance)\n",
    "sample_size = smso.NormalIndPower().solve_power(effect_size = effect_size, \n",
    "             power = sensitivity, alpha = confidence_level, ratio=1/3)\n",
    "display(HTML(\"<hr><font size = 3><font color = 'blue'> Minimum sample size per group: \" + \n",
    "             str(round(sample_size, 3)) + ' visitors <hr>'))"
   ]
  },
  {
   "cell_type": "markdown",
   "metadata": {},
   "source": [
    "### Z test \n",
    "- I'm choosing the proportions Z-test over t-test because I have a large sample size (over 30 visitors)\n",
    "- Setting significance threshold to 0.01\n",
    "- Null hypothesis is that the new price has no effect on conversion rate"
   ]
  },
  {
   "cell_type": "markdown",
   "metadata": {},
   "source": [
    "#### Calculate the pooled conversion rate, standard error, and margin of error as the basis for comparison"
   ]
  },
  {
   "cell_type": "code",
   "execution_count": 332,
   "metadata": {},
   "outputs": [
    {
     "data": {
      "text/html": [
       "<hr><h3><font color = 'blue'> Finding: Do not reject the null hypothesis"
      ],
      "text/plain": [
       "<IPython.core.display.HTML object>"
      ]
     },
     "metadata": {},
     "output_type": "display_data"
    },
    {
     "data": {
      "text/html": [
       "<font size = 3><font color = 'blue'> The difference in revenue between the new and old price is 14.17%"
      ],
      "text/plain": [
       "<IPython.core.display.HTML object>"
      ]
     },
     "metadata": {},
     "output_type": "display_data"
    },
    {
     "data": {
      "text/html": [
       "<font size = 3><font color = 'blue'> The lower bound of the confidence interval is 13.47%"
      ],
      "text/plain": [
       "<IPython.core.display.HTML object>"
      ]
     },
     "metadata": {},
     "output_type": "display_data"
    },
    {
     "data": {
      "text/html": [
       "<font size = 3><font color = 'blue'> The upper bound of the confidence interval is 14.87%<hr>"
      ],
      "text/plain": [
       "<IPython.core.display.HTML object>"
      ]
     },
     "metadata": {},
     "output_type": "display_data"
    }
   ],
   "source": [
    "import math\n",
    "import scipy.stats as sp\n",
    "\n",
    "prob_pooled = total_converted / total_seen\n",
    "se_pooled = math.sqrt(prob_pooled * (1 - prob_pooled) * (1 / num_seeing_39 * 39 + 1 / num_seeing_59 * 59))\n",
    "\n",
    "z_score = sp.norm.ppf(1 - confidence_level / 2)\n",
    "margin_of_error = se_pooled * z_score\n",
    "dhat = (num_converted_59 / num_seeing_59 * 59) - (num_converted_39 / num_seeing_39 * 39)\n",
    "\n",
    "lower_bound = dhat - margin_of_error\n",
    "upper_bound = dhat + margin_of_error\n",
    "\n",
    "# One-tailed test\n",
    "if practical_significance > upper_bound:\n",
    "    display(HTML(\"<hr><h3><font color = 'blue'> Finding: Reject null hypothesis\"))\n",
    "else: \n",
    "    display(HTML(\"<hr><h3><font color = 'blue'> Finding: Do not reject the null hypothesis\"))\n",
    "\n",
    "display(HTML(\"<font size = 3><font color = 'blue'> The difference in revenue between the new and old price is \" \n",
    "             + str(round(dhat * 100, 2))+ \"%\"))\n",
    "display(HTML(\"<font size = 3><font color = 'blue'> The lower bound of the confidence interval is \" \n",
    "             + str(round(lower_bound * 100, 2))+ \"%\"))\n",
    "display(HTML(\"<font size = 3><font color = 'blue'> The upper bound of the confidence interval is \" \n",
    "             + str(round(upper_bound * 100, 2)) + \"%<hr>\"))\n"
   ]
  },
  {
   "cell_type": "markdown",
   "metadata": {},
   "source": [
    "## When should the test have stopped?\n",
    "- The power analysis indicated a minimum sample size of 8632 visitors per group for a significance level of 0.01."
   ]
  },
  {
   "cell_type": "code",
   "execution_count": 420,
   "metadata": {},
   "outputs": [
    {
     "data": {
      "text/html": [
       "<div>\n",
       "<style scoped>\n",
       "    .dataframe tbody tr th:only-of-type {\n",
       "        vertical-align: middle;\n",
       "    }\n",
       "\n",
       "    .dataframe tbody tr th {\n",
       "        vertical-align: top;\n",
       "    }\n",
       "\n",
       "    .dataframe thead th {\n",
       "        text-align: right;\n",
       "    }\n",
       "</style>\n",
       "<table border=\"1\" class=\"dataframe\">\n",
       "  <thead>\n",
       "    <tr style=\"text-align: right;\">\n",
       "      <th></th>\n",
       "      <th>timestamp_utc</th>\n",
       "      <th>price</th>\n",
       "      <th>building_type</th>\n",
       "      <th>converted</th>\n",
       "      <th>country</th>\n",
       "      <th>device</th>\n",
       "      <th>operative_system</th>\n",
       "      <th>postcode</th>\n",
       "      <th>source</th>\n",
       "      <th>test</th>\n",
       "      <th>time_zone</th>\n",
       "      <th>timestamp</th>\n",
       "      <th>timetamp_utc</th>\n",
       "      <th>user_id</th>\n",
       "      <th>city</th>\n",
       "      <th>state</th>\n",
       "      <th>lat</th>\n",
       "      <th>long</th>\n",
       "      <th>nearest_city</th>\n",
       "    </tr>\n",
       "  </thead>\n",
       "  <tbody>\n",
       "    <tr>\n",
       "      <th>0</th>\n",
       "      <td>1.0</td>\n",
       "      <td>39</td>\n",
       "      <td>4585</td>\n",
       "      <td>4585</td>\n",
       "      <td>4585</td>\n",
       "      <td>4585</td>\n",
       "      <td>4585</td>\n",
       "      <td>4512</td>\n",
       "      <td>4585</td>\n",
       "      <td>4585</td>\n",
       "      <td>4585</td>\n",
       "      <td>4585</td>\n",
       "      <td>4585</td>\n",
       "      <td>4585</td>\n",
       "      <td>4585</td>\n",
       "      <td>4585</td>\n",
       "      <td>4585</td>\n",
       "      <td>4585</td>\n",
       "      <td>4585</td>\n",
       "    </tr>\n",
       "    <tr>\n",
       "      <th>1</th>\n",
       "      <td>1.0</td>\n",
       "      <td>59</td>\n",
       "      <td>2459</td>\n",
       "      <td>2459</td>\n",
       "      <td>2459</td>\n",
       "      <td>2459</td>\n",
       "      <td>2459</td>\n",
       "      <td>2430</td>\n",
       "      <td>2459</td>\n",
       "      <td>2459</td>\n",
       "      <td>2459</td>\n",
       "      <td>2459</td>\n",
       "      <td>2459</td>\n",
       "      <td>2459</td>\n",
       "      <td>2459</td>\n",
       "      <td>2459</td>\n",
       "      <td>2459</td>\n",
       "      <td>2459</td>\n",
       "      <td>2459</td>\n",
       "    </tr>\n",
       "    <tr>\n",
       "      <th>2</th>\n",
       "      <td>2.0</td>\n",
       "      <td>39</td>\n",
       "      <td>5345</td>\n",
       "      <td>5345</td>\n",
       "      <td>5345</td>\n",
       "      <td>5345</td>\n",
       "      <td>5345</td>\n",
       "      <td>5303</td>\n",
       "      <td>5345</td>\n",
       "      <td>5345</td>\n",
       "      <td>5345</td>\n",
       "      <td>5345</td>\n",
       "      <td>5345</td>\n",
       "      <td>5345</td>\n",
       "      <td>5345</td>\n",
       "      <td>5345</td>\n",
       "      <td>5345</td>\n",
       "      <td>5345</td>\n",
       "      <td>5345</td>\n",
       "    </tr>\n",
       "    <tr>\n",
       "      <th>3</th>\n",
       "      <td>2.0</td>\n",
       "      <td>59</td>\n",
       "      <td>2909</td>\n",
       "      <td>2909</td>\n",
       "      <td>2909</td>\n",
       "      <td>2909</td>\n",
       "      <td>2909</td>\n",
       "      <td>2876</td>\n",
       "      <td>2909</td>\n",
       "      <td>2909</td>\n",
       "      <td>2909</td>\n",
       "      <td>2909</td>\n",
       "      <td>2909</td>\n",
       "      <td>2909</td>\n",
       "      <td>2909</td>\n",
       "      <td>2909</td>\n",
       "      <td>2909</td>\n",
       "      <td>2909</td>\n",
       "      <td>2909</td>\n",
       "    </tr>\n",
       "    <tr>\n",
       "      <th>4</th>\n",
       "      <td>3.0</td>\n",
       "      <td>39</td>\n",
       "      <td>6605</td>\n",
       "      <td>6605</td>\n",
       "      <td>6605</td>\n",
       "      <td>6605</td>\n",
       "      <td>6605</td>\n",
       "      <td>6533</td>\n",
       "      <td>6605</td>\n",
       "      <td>6605</td>\n",
       "      <td>6605</td>\n",
       "      <td>6605</td>\n",
       "      <td>6605</td>\n",
       "      <td>6605</td>\n",
       "      <td>6605</td>\n",
       "      <td>6605</td>\n",
       "      <td>6605</td>\n",
       "      <td>6605</td>\n",
       "      <td>6605</td>\n",
       "    </tr>\n",
       "  </tbody>\n",
       "</table>\n",
       "</div>"
      ],
      "text/plain": [
       "   timestamp_utc price  building_type  converted  country  device  \\\n",
       "0            1.0    39           4585       4585     4585    4585   \n",
       "1            1.0    59           2459       2459     2459    2459   \n",
       "2            2.0    39           5345       5345     5345    5345   \n",
       "3            2.0    59           2909       2909     2909    2909   \n",
       "4            3.0    39           6605       6605     6605    6605   \n",
       "\n",
       "   operative_system  postcode  source  test  time_zone  timestamp  \\\n",
       "0              4585      4512    4585  4585       4585       4585   \n",
       "1              2459      2430    2459  2459       2459       2459   \n",
       "2              5345      5303    5345  5345       5345       5345   \n",
       "3              2909      2876    2909  2909       2909       2909   \n",
       "4              6605      6533    6605  6605       6605       6605   \n",
       "\n",
       "   timetamp_utc  user_id  city  state   lat  long  nearest_city  \n",
       "0          4585     4585  4585   4585  4585  4585          4585  \n",
       "1          2459     2459  2459   2459  2459  2459          2459  \n",
       "2          5345     5345  5345   5345  5345  5345          5345  \n",
       "3          2909     2909  2909   2909  2909  2909          2909  \n",
       "4          6605     6605  6605   6605  6605  6605          6605  "
      ]
     },
     "execution_count": 420,
     "metadata": {},
     "output_type": "execute_result"
    }
   ],
   "source": [
    "dft['timestamp_utc'] =  pd.to_datetime(dft.timetamp_utc, format = \"%Y-%m-%d\", errors = 'ignore').dt.day\n",
    "dftg = dft.groupby(['timestamp_utc','price']).count().reset_index()\n",
    "dftg.head()"
   ]
  },
  {
   "cell_type": "markdown",
   "metadata": {},
   "source": [
    "#### Plot the visitors as a time series (UTC)"
   ]
  },
  {
   "cell_type": "code",
   "execution_count": 423,
   "metadata": {},
   "outputs": [
    {
     "data": {
      "image/png": "[encoded data removed]",
      "text/plain": [
       "<Figure size 1440x216 with 1 Axes>"
      ]
     },
     "metadata": {
      "needs_background": "light"
     },
     "output_type": "display_data"
    }
   ],
   "source": [
    "#dftg = subtract_baseline(dftg, 'building_type')\n",
    "fig7, ax = plt.subplots(1,1, figsize = (20,3))\n",
    "ax.plot(dftg[dftg.price == '39'].timestamp_utc, dftg[dftg.price == '39'].building_type, marker = 'o', ms = 10,\n",
    "        alpha = .5, label = 'visits at $39')\n",
    "ax.plot(dftg[dftg.price == '59'].timestamp_utc, dftg[dftg.price == '59'].building_type, marker = 'o', ms = 10,\n",
    "        alpha = .5, label = 'visits at $59')\n",
    "avg = dftg[dftg.price == '39'].building_type.mean()\n",
    "sd = dftg[dftg.price == '39'].building_type.std()\n",
    "ax.axhline(avg, color = 'dimgray', ls = '-', alpha = 0.5, label = 'mean')\n",
    "ax.axhline(avg - sd, color = 'dimgray', ls = ':', alpha = 0.5, label = '-1 std')\n",
    "ax.axhline(avg + sd, color = 'dimgray', ls = ':', alpha = 0.5, label = '+1 std')\n",
    "ax.axhline(avg - sd*2, color = 'dimgray', ls = 'dashed', alpha = 0.5, label = '-2 std')\n",
    "ax.axhline(avg + sd*2, color = 'dimgray', ls = 'dashed', alpha = 0.5, label = '+2 std')\n",
    "handles, labels = ax.get_legend_handles_labels()\n",
    "ax.tick_params(labelsize = 16)\n",
    "ax.set_xlabel('\\n Time (Days)', fontsize = 20)\n",
    "ax.set_ylabel('Number of Visitors', fontsize = 20)\n",
    "ax.legend(handles,labels, loc='center left', fontsize = 14, bbox_to_anchor=(1, 0.5))\n",
    "ax.set_facecolor ('ghostwhite')"
   ]
  },
  {
   "cell_type": "markdown",
   "metadata": {},
   "source": [
    "#### Plot the cumulative sum of visitors over days"
   ]
  },
  {
   "cell_type": "code",
   "execution_count": 472,
   "metadata": {},
   "outputs": [
    {
     "data": {
      "text/plain": [
       "<matplotlib.lines.Line2D at 0x17311add0>"
      ]
     },
     "execution_count": 472,
     "metadata": {},
     "output_type": "execute_result"
    },
    {
     "data": {
      "image/png": "[encoded data removed]",
      "text/plain": [
       "<Figure size 432x288 with 1 Axes>"
      ]
     },
     "metadata": {
      "needs_background": "light"
     },
     "output_type": "display_data"
    }
   ],
   "source": [
    "cumulative_39 = dftg[dftg.price == '39'].building_type.cumsum()\n",
    "cumulative_59 = dftg[dftg.price == '59'].building_type.cumsum()\n",
    "fig, ax = plt.subplots()\n",
    "ax.plot(cumulative_39.index.values, cumulative_39)\n",
    "ax.plot(cumulative_59.index.values, cumulative_59)\n",
    "ax.axhline(sample_size, ls = ':')"
   ]
  },
  {
   "cell_type": "markdown",
   "metadata": {},
   "source": [
    "#### Definition for finding the first stopping point"
   ]
  },
  {
   "cell_type": "code",
   "execution_count": 469,
   "metadata": {},
   "outputs": [],
   "source": [
    "def get_min_days(c, min_visitors):\n",
    "    for i,v in enumerate(c):\n",
    "        if v < min_visitors:\n",
    "            pass\n",
    "        else:\n",
    "            stop = c.index.values[i+2] # next day and account for 0 start\n",
    "            return stop"
   ]
  },
  {
   "cell_type": "markdown",
   "metadata": {},
   "source": [
    "#### Calculate minimum stopping points for each price group"
   ]
  },
  {
   "cell_type": "code",
   "execution_count": 470,
   "metadata": {},
   "outputs": [
    {
     "data": {
      "text/html": [
       "<hr><h3><font color = 'blue'>Finding: The minimum necessary testing time is 6 days.<hr>"
      ],
      "text/plain": [
       "<IPython.core.display.HTML object>"
      ]
     },
     "metadata": {},
     "output_type": "display_data"
    }
   ],
   "source": [
    "min_39 = get_min_days(round(cumulative_39), int(sample_size))\n",
    "min_59 = get_min_days(round(cumulative_59), int(sample_size))\n",
    "stop_day = max(min_39,min_39)\n",
    "display(HTML(\"<hr><h3><font color = 'blue'>Finding: The minimum necessary testing time is \" +\n",
    "             str(stop_day) + ' days.<hr>'))"
   ]
  },
  {
   "cell_type": "markdown",
   "metadata": {},
   "source": [
    "# What else can the company do to increase revenue?\n",
    "- The overall conversion rate was under 2%, which is pretty bad. \n",
    "- The demographics of the users give hints to where the company can make improvements."
   ]
  },
  {
   "cell_type": "markdown",
   "metadata": {},
   "source": [
    "## Strategy involving sources of traffic"
   ]
  },
  {
   "cell_type": "code",
   "execution_count": 388,
   "metadata": {},
   "outputs": [
    {
     "data": {
      "image/png": "[encoded data removed]",
      "text/plain": [
       "<Figure size 1440x720 with 3 Axes>"
      ]
     },
     "metadata": {
      "needs_background": "light"
     },
     "output_type": "display_data"
    }
   ],
   "source": [
    "fig, ax = plt.subplots(1,3, figsize = (20, 10))\n",
    "\n",
    "# Bar chart for traffic source\n",
    "direct = (dft[dft.source == 'direct_traffic'].shape[0] + \\\n",
    "          dft[dft.source == 'friend_referral'].shape[0])/dft.shape[0]*100\n",
    "ads = (dft[dft.source == 'ads_bing'].shape[0] + \\\n",
    "          dft[dft.source == 'ads_google'].shape[0] + \\\n",
    "          dft[dft.source == 'ads_yahoo'].shape[0] + \\\n",
    "          dft[dft.source == 'ads_facebook'].shape[0] + \\\n",
    "          dft[dft.source == 'ads_other'].shape[0])/dft.shape[0] * 100\n",
    "seo = (dft[dft.source == 'seo_bing'].shape[0] + \\\n",
    "          dft[dft.source == 'seo_google'].shape[0] + \\\n",
    "          dft[dft.source == 'seo_yahoo'].shape[0] + \\\n",
    "          dft[dft.source == 'seo_facebook'].shape[0] + \\\n",
    "          dft[dft.source == 'seo_other'].shape[0])/dft.shape[0] * 100\n",
    "ax[0].bar(['direct', 'ads', 'seo'], \n",
    "          height = [direct, ads, seo], color = 'mediumpurple', edgecolor = 'k')\n",
    "ax[0].tick_params(axis = 'x',labelsize = 18, rotation = 90)\n",
    "ax[0].tick_params(axis = 'y', labelsize = 18)\n",
    "ax[0].set_ylabel('% of visitors\\n', fontsize = 20)\n",
    "ax[0].set_title('Traffic Source\\n', fontsize = 20)\n",
    "\n",
    "# Bar chart for device\n",
    "android = dft[dft.operative_system == 'android'].shape[0]/dft.shape[0] * 100\n",
    "ios = dft[dft.operative_system == 'iOS'].shape[0] /dft.shape[0] * 100\n",
    "linux = dft[dft.operative_system == 'linux'].shape[0]/dft.shape[0] * 100\n",
    "mac = dft[dft.operative_system == 'mac'].shape[0]/dft.shape[0] * 100\n",
    "other = dft[dft.operative_system == 'other'].shape[0]/dft.shape[0] * 100\n",
    "windows = dft[dft.operative_system == 'windows'].shape[0]/dft.shape[0] * 100\n",
    "ax[1].bar(['android', 'iOS', 'linux', 'mac', 'other', 'windows'], \n",
    "          height = [android, ios, linux, mac, other, windows], color = 'darkcyan', edgecolor = 'k')\n",
    "ax[1].tick_params(axis = 'x',labelsize = 18, rotation = 90)\n",
    "ax[1].tick_params(axis = 'y', labelsize = 18)\n",
    "ax[1].set_ylabel('% of visitors\\n', fontsize = 20)\n",
    "ax[1].set_title('Device Type\\n', fontsize = 20)\n",
    "\n",
    "# Bar chart for building type\n",
    "residential = (dft[dft.building_type == 'house_number'].shape[0] + \\\n",
    "              dft[dft.building_type == 'road'].shape[0] + \\\n",
    "              dft[dft.building_type == 'neighborhood'].shape[0])/dft.shape[0] * 100\n",
    "amenity = (dft[dft.building_type == 'amenity'].shape[0] + \\\n",
    "              dft[dft.building_type == 'craft'].shape[0] + \\\n",
    "              dft[dft.building_type == 'leisure' ].shape[0])/dft.shape[0] * 100\n",
    "business = (dft[dft.building_type == 'office'].shape[0] + \\\n",
    "              dft[dft.building_type == 'shop'].shape[0])/dft.shape[0] * 100\n",
    "government = (dft[dft.building_type == 'city'].shape[0] + \\\n",
    "              dft[dft.building_type == 'hamlet'].shape[0] + \\\n",
    "              dft[dft.building_type == 'state'].shape[0])/dft.shape[0] * 100\n",
    "other = (dft[dft.building_type == 'aeroway'].shape[0] + \\\n",
    "              dft[dft.building_type == 'building'].shape[0] + \\\n",
    "              dft[dft.building_type == 'man-made'].shape[0] + \\\n",
    "              dft[dft.building_type == 'natural'].shape[0] + \\\n",
    "              dft[dft.building_type == 'place'].shape[0] + \\\n",
    "              dft[dft.building_type == 'tourism'].shape[0])/dft.shape[0] * 100\n",
    "ax[2].bar(['residential', 'amenity', 'business', 'government', 'other'], \n",
    "          height = [residential, amenity, business, government, other], edgecolor = 'k')\n",
    "ax[2].tick_params(axis = 'x',labelsize = 18, rotation = 90)\n",
    "ax[2].tick_params(axis = 'y', labelsize = 18)\n",
    "ax[2].set_ylabel('% of visitors\\n', fontsize = 20)\n",
    "ax[2].set_title('Building Type\\n', fontsize = 20)\n",
    "\n",
    "plt.tight_layout()"
   ]
  },
  {
   "cell_type": "code",
   "execution_count": 391,
   "metadata": {},
   "outputs": [
    {
     "data": {
      "text/html": [
       "<hr><h3><font color = 'blue'>Finding: Search engine optimization is a cost \n",
       "             effective means of increasing traffic \n",
       "             to the website.</h3><br> <font size = 3> When pooled, the majority of \n",
       "             traffic comes from ad sources and least from searches.<br>Ads are costly, but \n",
       "             searches are not."
      ],
      "text/plain": [
       "<IPython.core.display.HTML object>"
      ]
     },
     "metadata": {},
     "output_type": "display_data"
    },
    {
     "data": {
      "text/html": [
       "<h3><font color = 'blue'>Finding: There may be a barrier for MacOs users to \n",
       "             access the website or use the software.</h3><br> <font size = 3> Mobile and Windows \n",
       "             are the most frequently used devices to access the website.<br>This could be of some \n",
       "             user-interface or page-loading snaffu on MacOs (and Linux)\n",
       "             devices, which could be addressed with the UX/UI team.<br> It could also\n",
       "             be a reflection of the supported platforms of the software, so if the next release is cross-platform\n",
       "             to support MacOs, there is an untapped market waiting."
      ],
      "text/plain": [
       "<IPython.core.display.HTML object>"
      ]
     },
     "metadata": {},
     "output_type": "display_data"
    },
    {
     "data": {
      "text/html": [
       "<h3><font color = 'blue'>Finding: There is little purchasing of the software \n",
       "            by offices and businesses.</h3><br> <font size = 3>If there is a potential user for the software \n",
       "            in commerce or government, those are additional untapped markets. <hr>"
      ],
      "text/plain": [
       "<IPython.core.display.HTML object>"
      ]
     },
     "metadata": {},
     "output_type": "display_data"
    }
   ],
   "source": [
    "display(HTML(\"\"\"<hr><h3><font color = 'blue'>Finding: Search engine optimization is a cost \n",
    "             effective means of increasing traffic \n",
    "             to the website.</h3><br> <font size = 3> When pooled, the majority of \n",
    "             traffic comes from ad sources and least from searches.<br>Ads are costly, but \n",
    "             searches are not.\"\"\"))\n",
    "display(HTML(\"\"\"<h3><font color = 'blue'>Finding: There may be a barrier for MacOs users to \n",
    "             access the website or use the software.</h3><br> <font size = 3> Mobile and Windows \n",
    "             are the most frequently used devices to access the website.<br>This could be of some \n",
    "             user-interface or page-loading snaffu on MacOs (and Linux)\n",
    "             devices, which could be addressed with the UX/UI team.<br> It could also\n",
    "             be a reflection of the supported platforms of the software, so if the next release is cross-platform\n",
    "             to support MacOs, there is an untapped market waiting.\"\"\"))\n",
    "display(HTML(\"\"\"<h3><font color = 'blue'>Finding: There is little purchasing of the software \n",
    "            by offices and businesses.</h3><br> <font size = 3>If there is a potential user for the software \n",
    "            in commerce or government, those are additional untapped markets. <hr>\"\"\"))"
   ]
  },
  {
   "cell_type": "markdown",
   "metadata": {},
   "source": [
    "# Summary"
   ]
  },
  {
   "cell_type": "markdown",
   "metadata": {},
   "source": [
    "There is a small (14%) increase in the revenue per visitor with the new price of \\$59, but was not significant at p <0.05. The conversion rate was very low in both groups and only 1.83\\% overall. The majority of purchases were from home addresses using mobile OS or Windows who found their way to the website directly or via ads. Power analysis using the old price as a control specified a minimum of 8632 visitors per group for a significance level of p < 0.01, so the test could have stopped after day 6.  \n",
    "\n",
    "I recommend leaving the price at \\$39 and focus on increasing conversion rate. Invest in search engine optimization to boost traffic to the site. Once the search engine optimization becomes effective, reduce spending on ads to increase your revenue per visitor. Look further into the device types since MacOS users are less likely to visit the page. If it is a UI/UX issue, have the web design team improve it as cross-platform. If the software the company is selling is not MacOS compatible, this is an untapped market for future releases. Most visitors to the website were from residential buildings, leaving businesses and government as untapped markets. If the software is relevant to business and government, future promotions, bulk discounts, and other marketing strategies should include these to increase revenue."
   ]
  },
  {
   "cell_type": "code",
   "execution_count": null,
   "metadata": {},
   "outputs": [],
   "source": []
  }
 ],
 "metadata": {
  "kernelspec": {
   "display_name": "ins_env",
   "language": "python",
   "name": "ins_env"
  },
  "language_info": {
   "codemirror_mode": {
    "name": "ipython",
    "version": 3
   },
   "file_extension": ".py",
   "mimetype": "text/x-python",
   "name": "python",
   "nbconvert_exporter": "python",
   "pygments_lexer": "ipython3",
   "version": "3.7.7"
  }
 },
 "nbformat": 4,
 "nbformat_minor": 4
}
