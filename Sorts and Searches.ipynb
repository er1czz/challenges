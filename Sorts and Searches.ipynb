{
 "cells": [
  {
   "cell_type": "markdown",
   "metadata": {},
   "source": [
    "# Interview Questions on Sorting and Searching"
   ]
  },
  {
   "cell_type": "markdown",
   "metadata": {},
   "source": [
    "## Binary Search"
   ]
  },
  {
   "cell_type": "code",
   "execution_count": 3,
   "metadata": {},
   "outputs": [],
   "source": [
    "def binary_search(a, l, r, k): \n",
    "  \n",
    "    # Check base case \n",
    "    if r >= l: \n",
    "  \n",
    "        m = (l + r) // 2\n",
    "  \n",
    "        # If element is present at the middle itself \n",
    "        if a[m] == k: \n",
    "            return m \n",
    "  \n",
    "        # If element is smaller than mid\n",
    "        elif a[m] > k: \n",
    "            return binary_search(a, l, m - 1, k) \n",
    "  \n",
    "        # Else the element can only be present in right subarray \n",
    "        else: \n",
    "            return binary_search(a, m + 1, r, k) \n",
    "  \n",
    "    else: \n",
    "        # Element is not present in the array \n",
    "        return -1"
   ]
  },
  {
   "cell_type": "code",
   "execution_count": 4,
   "metadata": {
    "scrolled": false,
    "tags": []
   },
   "outputs": [
    {
     "name": "stdout",
     "output_type": "stream",
     "text": [
      "1\n"
     ]
    }
   ],
   "source": [
    "a = [1,3,5,7,8,10]\n",
    "k = 1\n",
    "result = binary_search(a, 0, len(a)-1, k)\n",
    "print( result)"
   ]
  },
  {
   "cell_type": "markdown",
   "metadata": {},
   "source": [
    "## Merge Sort"
   ]
  },
  {
   "cell_type": "markdown",
   "metadata": {},
   "source": [
    "- Divide and conquer\n",
    "- Recursive\n",
    "- O(n log n) time, but O(n) space complexity \n",
    "- Good for large datasets on external storage\n",
    "- Kinda greedy with the memory because of the extra space allocation for left and right\n",
    "\n",
    "\n",
    "1. divide the array in half\n",
    "2. divide recursively until the left side is no longer smaller than the right side (i.e. 1)\n",
    "    - This is where the array is actually individual numbers\n",
    "    - Recursive data is stored in a stack and the i and j pointers navigate that stack\n",
    "3. Merge the data from the hidden stack back to the full sorted array"
   ]
  },
  {
   "cell_type": "code",
   "execution_count": 25,
   "metadata": {},
   "outputs": [],
   "source": [
    "def merge_sort (a):\n",
    "    \n",
    "    if len(a) > 1: # make sure at least two values (base case)        \n",
    "        # 1. Divide the original array\n",
    "        mid = len(a) // 2\n",
    "        left = a[:mid]\n",
    "        right = a[mid:]\n",
    "        \n",
    "        # 2. Keep dividing recurisvely until you reach the base case \n",
    "        merge_sort(left)\n",
    "        merge_sort (right)\n",
    "        \n",
    "        # 3. Merge all the way back up for each split, comparing right then left, then add any leftovers.\n",
    "        i = 0 # left index\n",
    "        j = 0 # right index\n",
    "        k = 0 # array index\n",
    "        \n",
    "        while i < len(left) and j < len(right): # make sure neither i or j has reached the end\n",
    "            if left[i] < right[j]: # Left is smaller\n",
    "                a[k] = left[i]\n",
    "                i += 1\n",
    "            else:\n",
    "                a[k] = right[j]\n",
    "                j += 1\n",
    "            k += 1\n",
    "        \n",
    "            # Deal with leftovers\n",
    "            while i < len(left):\n",
    "                a[k] = left[i]\n",
    "                i += 1\n",
    "                k += 1\n",
    "                \n",
    "            while j < len(right):\n",
    "                a[k] = right[j]\n",
    "                j += 1\n",
    "                k +=1\n",
    "    return a\n",
    "# Edge cases = 0, duplicates (ignored), negative numbers"
   ]
  },
  {
   "cell_type": "code",
   "execution_count": 26,
   "metadata": {},
   "outputs": [
    {
     "name": "stdout",
     "output_type": "stream",
     "text": [
      "[-2, 8, 32, 0, 93]\n"
     ]
    }
   ],
   "source": [
    "a = [8,32,0,93, -2]\n",
    "a = merge_sort (a)\n",
    "print (a)"
   ]
  },
  {
   "cell_type": "markdown",
   "metadata": {},
   "source": [
    "## Quick Sort"
   ]
  },
  {
   "cell_type": "markdown",
   "metadata": {},
   "source": [
    "- Divide and COnquer \n",
    "- Recursive\n",
    "- Instead of working all the way down to one item per list, it performs swaps around the pivot\n",
    "- O(n log n) time\n",
    "- O (1) space\n",
    "\n",
    "\n",
    "1. Define the pivot (randomized is best)\n",
    "2. Set one pointer coming from the left and the other from the right. They'll meet at the pivot\n",
    "    - Swap neighbors with the lowest left (default) for both the right and left pointers\n",
    "3. Repeat until no more swaps and you're done.\n",
    "\n"
   ]
  },
  {
   "cell_type": "code",
   "execution_count": 41,
   "metadata": {},
   "outputs": [],
   "source": [
    "def partition (a, l, r):\n",
    "    \n",
    "    i = l - 1 # The -1 is a safety feature. Will not call a[-1]\n",
    "    # Take the last element as pivot\n",
    "    p = a[r]\n",
    "    \n",
    "    # Place the pivot element at its correct position in sorted array\n",
    "    for j in range (l, r):\n",
    "        # If current element is smaller than or equal to pivot \n",
    "        if a[j] <= p:\n",
    "            i += 1 # increment the left value\n",
    "            a[j], a[i] = a[i], a[j] # Make the swap\n",
    "    \n",
    "    # place all smaller (smaller than pivot) to left of pivot \n",
    "    # place all greater elements to right of pivot \n",
    "    a[i+1], a[r] = a[r], a[i+1]\n",
    "    return (i + 1)\n"
   ]
  },
  {
   "cell_type": "code",
   "execution_count": 49,
   "metadata": {},
   "outputs": [],
   "source": [
    "# Function to do Quick sort \n",
    "def quick_sort(a,l,r): \n",
    "    \n",
    "    # Only continue if l and r have not converged\n",
    "    if l < r: \n",
    "  \n",
    "        # pi is partitioning index, arr[p] is now \n",
    "        # at right place (i+1 from partition)\n",
    "        pi = partition(a,l,r) \n",
    "  \n",
    "        # Separately sort elements before \n",
    "        # partition and after partition \n",
    "        quick_sort(a, l, pi-1) \n",
    "        quick_sort(a, pi+1, r) \n",
    "        \n",
    "    return a"
   ]
  },
  {
   "cell_type": "code",
   "execution_count": 50,
   "metadata": {},
   "outputs": [
    {
     "data": {
      "text/plain": [
       "[3, 4, 6]"
      ]
     },
     "execution_count": 50,
     "metadata": {},
     "output_type": "execute_result"
    }
   ],
   "source": [
    "a = [4,6,3]\n",
    "quick_sort(a, 0, len(a)-1)"
   ]
  },
  {
   "cell_type": "markdown",
   "metadata": {},
   "source": [
    "## Select Sort\n",
    "\n",
    "Time Complexity: O(n2) as there are two nested loops.\n",
    "\n",
    "Auxiliary Space: O(1)\n",
    "The good thing about selection sort is it never makes more than O(n) swaps and can be useful when memory write is a costly operation.\n",
    "\n",
    "Exercise :\n",
    "Sort an array of strings using Selection Sort\n",
    "\n",
    "Stability : The default implementation is not stable. However it can be made stable. Please see stable selection sort for details.\n",
    "\n",
    "In Place : Yes, it does not require extra space."
   ]
  },
  {
   "cell_type": "code",
   "execution_count": 258,
   "metadata": {},
   "outputs": [],
   "source": [
    "def select_sort (a, l):\n",
    "    for i in range(len(a)):\n",
    "        min_i = i\n",
    "        for j in range (i+1, len(a)):\n",
    "            if a[min_i] > a [j]:\n",
    "                min_i = j\n",
    "        a[i], a[min_i] = a[min_i],a[i]\n",
    "    return a"
   ]
  },
  {
   "cell_type": "code",
   "execution_count": 259,
   "metadata": {},
   "outputs": [
    {
     "name": "stdout",
     "output_type": "stream",
     "text": [
      "[1, 3, 6, 6, 9]\n"
     ]
    }
   ],
   "source": [
    "a = [3,6,1,9,6]\n",
    "a = select_sort(a, 0)\n",
    "print(a)"
   ]
  },
  {
   "cell_type": "markdown",
   "metadata": {},
   "source": [
    "## Bubble Sort (sinking sort)\n",
    "\n",
    "\n",
    "Worst and Average Case Time Complexity: O(n*n). Worst case occurs when array is reverse sorted.\n",
    "\n",
    "Best Case Time Complexity: O(n). Best case occurs when array is already sorted.\n",
    "\n",
    "Auxiliary Space: O(1)\n",
    "\n",
    "Boundary Cases: Bubble sort takes minimum time (Order of n) when elements are already sorted.\n",
    "\n",
    "Sorting In Place: Yes\n",
    "\n",
    "Stable: Yes\n",
    "\n",
    "Due to its simplicity, bubble sort is often used to introduce the concept of a sorting algorithm.\n",
    "In computer graphics it is popular for its capability to detect a very small error (like swap of just two elements) in almost-sorted arrays and fix it with just linear complexity (2n). For example, it is used in a polygon filling algorithm, where bounding lines are sorted by their x coordinate at a specific scan line (a line parallel to x axis) and with incrementing y their order changes (two elements are swapped) only at intersections of two lines (Source: Wikipedia)"
   ]
  },
  {
   "cell_type": "code",
   "execution_count": 267,
   "metadata": {},
   "outputs": [],
   "source": [
    "def bubble_sort(a):\n",
    "    \n",
    "    # Step through the array and compare each element \n",
    "    for i in range(len(a)): \n",
    "        \n",
    "        # Flag to stop the function when False (optimization)\n",
    "        swapped = True \n",
    "        \n",
    "        # Second iteration from the swapped item onward \n",
    "        for j in range (len(a)-i-1):\n",
    "    \n",
    "            # If the left element is greater than the right, swap\n",
    "            if a[j] > a[j + 1]:\n",
    "                a[j], a[j+1] = a[j+1], a[j]\n",
    "                swapped = True\n",
    "        \n",
    "        # End the inner loop when you run out of array or no more swaps\n",
    "        if swapped == False:\n",
    "            break\n",
    "    return a"
   ]
  },
  {
   "cell_type": "code",
   "execution_count": 268,
   "metadata": {},
   "outputs": [
    {
     "name": "stdout",
     "output_type": "stream",
     "text": [
      "[1, 2, 3, 6, 8]\n"
     ]
    }
   ],
   "source": [
    "a = [3,6,1,2,8]\n",
    "print(bubble_sort(a))"
   ]
  },
  {
   "cell_type": "markdown",
   "metadata": {},
   "source": [
    "## Insertion Sort\n",
    "\n",
    "Time Complexity: O(n*2)\n",
    "\n",
    "Auxiliary Space: O(1)\n",
    "\n",
    "Boundary Cases: Insertion sort takes maximum time to sort if elements are sorted in reverse order. And it takes minimum time (Order of n) when elements are already sorted.\n",
    "\n",
    "Algorithmic Paradigm: Incremental Approach\n",
    "\n",
    "Sorting In Place: Yes\n",
    "\n",
    "Stable: Yes\n",
    "\n",
    "Online: Yes\n",
    "\n",
    "Uses: Insertion sort is used when number of elements is small. It can also be useful when input array is almost sorted, only few elements are misplaced in complete big array.\n",
    "\n",
    "What is Binary Insertion Sort?\n",
    "We can use binary search to reduce the number of comparisons in normal insertion sort. Binary Insertion Sort uses binary search to find the proper location to insert the selected item at each iteration. In normal insertion, sorting takes O(i) (at ith iteration) in worst case. We can reduce it to O(logi) by using binary search. The algorithm, as a whole, still has a running worst case running time of O(n2) because of the series of swaps required for each insertion. Refer this for implementation."
   ]
  },
  {
   "cell_type": "code",
   "execution_count": 296,
   "metadata": {},
   "outputs": [],
   "source": [
    "def insertion_sort(a):\n",
    "    \n",
    "    # iterate through the list\n",
    "    for i in range (1, len(a)):\n",
    "        \n",
    "        key = a[i] # the value we want to place\n",
    "        j = i-1 # the previous value of the one we want to place\n",
    "        \n",
    "        # If the current element is smaller than its predecessor\n",
    "        while j >= 0 and key < a[j]:\n",
    "            \n",
    "            # move all the larger values to the right\n",
    "            a[j + 1] = a[j]\n",
    "            j -= 1\n",
    "        \n",
    "        # place the key in its proper position\n",
    "        a[j+1] = key \n",
    "            \n",
    "    return a\n",
    "\n",
    "# Split array into sorted and unsorted stack\n",
    "# Draw one item from the unsorted and place into the correct position in the sorted stack"
   ]
  },
  {
   "cell_type": "code",
   "execution_count": 2,
   "metadata": {},
   "outputs": [
    {
     "output_type": "error",
     "ename": "NameError",
     "evalue": "name 'insertion_sort' is not defined",
     "traceback": [
      "\u001b[1;31m---------------------------------------------------------------------------\u001b[0m",
      "\u001b[1;31mNameError\u001b[0m                                 Traceback (most recent call last)",
      "\u001b[1;32m<ipython-input-2-6fffe497c71e>\u001b[0m in \u001b[0;36m<module>\u001b[1;34m\u001b[0m\n\u001b[0;32m      1\u001b[0m \u001b[0ma\u001b[0m \u001b[1;33m=\u001b[0m \u001b[1;33m[\u001b[0m\u001b[1;36m3\u001b[0m\u001b[1;33m,\u001b[0m\u001b[1;36m6\u001b[0m\u001b[1;33m,\u001b[0m\u001b[1;36m1\u001b[0m\u001b[1;33m,\u001b[0m\u001b[1;36m2\u001b[0m\u001b[1;33m,\u001b[0m\u001b[1;36m8\u001b[0m\u001b[1;33m]\u001b[0m\u001b[1;33m\u001b[0m\u001b[1;33m\u001b[0m\u001b[0m\n\u001b[1;32m----> 2\u001b[1;33m \u001b[0mprint\u001b[0m\u001b[1;33m(\u001b[0m\u001b[0minsertion_sort\u001b[0m\u001b[1;33m(\u001b[0m\u001b[0ma\u001b[0m\u001b[1;33m)\u001b[0m\u001b[1;33m)\u001b[0m\u001b[1;33m\u001b[0m\u001b[1;33m\u001b[0m\u001b[0m\n\u001b[0m",
      "\u001b[1;31mNameError\u001b[0m: name 'insertion_sort' is not defined"
     ]
    }
   ],
   "source": [
    "a = [3,6,1,2,8]\n",
    "print(insertion_sort(a))"
   ]
  },
  {
   "cell_type": "markdown",
   "metadata": {},
   "source": [
    "## Heap Sort\n",
    "1. Build a max heap from the input data\n",
    "2. Largest item at the root\n",
    "3. Replace with the last item in the heap\n",
    "4. Reduce the size of the heap by 1\n",
    "5. Heapify the root\n",
    "6. Rinse, repeat while size of heap is greater than 1\n",
    "7. Requires a cache"
   ]
  },
  {
   "cell_type": "code",
   "execution_count": 19,
   "metadata": {},
   "outputs": [],
   "source": [
    "def heapify (a, n, i):\n",
    "    L = 2*i + 1\n",
    "    R = 2*i + 2\n",
    "    LL = i\n",
    "\n",
    "    if L < n and a[i] < a[L]:\n",
    "        LL = L\n",
    "    elif L < n and a[LL] <a[R]:\n",
    "        LL = R\n",
    "    if LL != i:\n",
    "        a[i], a[LL] = a[LL], a[i]\n",
    "        heapify(a, n, LL)\n",
    "    return a\n",
    "\n",
    "def heap_sort (a):\n",
    "    n = len(a)\n",
    "    for i in range(n//2 - 1, -1, -1):\n",
    "        a = heapify (a, n, i)\n",
    "    for i in range(n-1, 0, -1):\n",
    "        a[i], a[0] = a[0], a[i]\n",
    "        heapify(a, i, 0)\n",
    "    return a \n"
   ]
  },
  {
   "cell_type": "code",
   "execution_count": 20,
   "metadata": {
    "tags": []
   },
   "outputs": [
    {
     "output_type": "stream",
     "name": "stdout",
     "text": "[1, 2, 3, 6, 8]\n"
    }
   ],
   "source": [
    "\n",
    "a = [3,6,1,8,2]\n",
    "print(heap_sort(a))\n",
    "\n"
   ]
  },
  {
   "cell_type": "code",
   "execution_count": null,
   "metadata": {},
   "outputs": [],
   "source": [
    "Recursive Algorithms\n",
    "Dynamic Algorithms\n",
    "graph searches\n"
   ]
  },
  {
   "cell_type": "markdown",
   "metadata": {},
   "source": [
    "Dijkstra's Algorithm for weighted graphs\n",
    "\n",
    "1. Starts with an \"initial\" and an \"every other node (i.e. two point in the path)\n",
    "2. Find the least-cost path from the start to the goal node\n",
    "\n",
    "- distance of start vertex from start vertex = 0\n",
    "- distance of all other vertices from start = inf\n",
    "\n",
    "Repeat:\n",
    "- Visit the unvisited vertex with the smallest known distance from the start vertex\n",
    "- For the current vertex, examine its unvisited neighbors\n",
    "- For the current vertex, caluclate the distance of each neighbor from the start vertexIf the calculated distance of a vertex is < the known distance \n",
    "- update the shortest distanceUpdated the previous vertex for each of the updated distances\n",
    "- Add the current vertex to the list of visted vertexes\n",
    "\n",
    "End when all vertices have been visited"
   ]
  },
  {
   "cell_type": "code",
   "execution_count": null,
   "metadata": {},
   "outputs": [],
   "source": [
    "\n",
    "v = []\n",
    "a = [A,B,C,D,E]\n",
    "\n",
    "v1 = 0 # shortest distance\n",
    "W = "
   ]
  }
 ],
 "metadata": {
  "kernelspec": {
   "display_name": "Python 3.8.2 64-bit",
   "language": "python",
   "name": "python_defaultSpec_1597184490163"
  },
  "language_info": {
   "codemirror_mode": {
    "name": "ipython",
    "version": 3
   },
   "file_extension": ".py",
   "mimetype": "text/x-python",
   "name": "python",
   "nbconvert_exporter": "python",
   "pygments_lexer": "ipython3",
   "version": "3.7.4"
  }
 },
 "nbformat": 4,
 "nbformat_minor": 4
}