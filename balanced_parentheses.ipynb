{
 "cells": [
  {
   "cell_type": "markdown",
   "metadata": {},
   "source": [
    "# Balanced Parentheses"
   ]
  },
  {
   "cell_type": "code",
   "execution_count": 31,
   "metadata": {},
   "outputs": [],
   "source": [
    "def balance (s):\n",
    "    stack = [] # Use a stack: list with append and pop\n",
    "    \n",
    "    for c in s:\n",
    "        if c == '(' or c == ')':\n",
    "            # First check to see if the stack is empty\n",
    "            if not stack:\n",
    "        \n",
    "                # If so then add it to the stack\n",
    "                stack.append(c)\n",
    "        \n",
    "            else:\n",
    "                # If not, check to see if the last item is a match for c\n",
    "                if c == ')' and stack[-1] == '(':\n",
    "                    stack.pop()\n",
    "                else:\n",
    "                    stack.append(c)\n",
    "    if stack:\n",
    "        print(stack)\n",
    "        return False\n",
    "    else:\n",
    "        return True\n",
    "            \n",
    "                "
   ]
  },
  {
   "cell_type": "code",
   "execution_count": 32,
   "metadata": {},
   "outputs": [
    {
     "name": "stdout",
     "output_type": "stream",
     "text": [
      "['(']\n"
     ]
    },
    {
     "data": {
      "text/plain": [
       "False"
      ]
     },
     "execution_count": 32,
     "metadata": {},
     "output_type": "execute_result"
    }
   ],
   "source": [
    "balance (['(', ')', '('])"
   ]
  },
  {
   "cell_type": "markdown",
   "metadata": {},
   "source": [
    "# Balanced Symbols"
   ]
  },
  {
   "cell_type": "code",
   "execution_count": 40,
   "metadata": {},
   "outputs": [],
   "source": [
    "def is_balanced(s):\n",
    "    opening = '({['\n",
    "    closing = ']})'\n",
    "    stack = []\n",
    "    \n",
    "    for c in s:\n",
    "        if c in opening:\n",
    "            stack.append(c)\n",
    "        elif c in closing and stack:\n",
    "            if c == ')' and stack[-1] == '(':\n",
    "                stack.pop()\n",
    "            elif c == ']' and stack[-1] == '[':\n",
    "                stack.pop()\n",
    "            elif c == '}' and stack [-1] == '{':\n",
    "                stack.pop()\n",
    "    if stack:\n",
    "        return False\n",
    "    else:\n",
    "        return True\n",
    "        "
   ]
  },
  {
   "cell_type": "code",
   "execution_count": 42,
   "metadata": {},
   "outputs": [
    {
     "data": {
      "text/plain": [
       "False"
      ]
     },
     "execution_count": 42,
     "metadata": {},
     "output_type": "execute_result"
    }
   ],
   "source": [
    "is_balanced(['{','}','[','}'])"
   ]
  },
  {
   "cell_type": "code",
   "execution_count": null,
   "metadata": {},
   "outputs": [],
   "source": []
  }
 ],
 "metadata": {
  "kernelspec": {
   "display_name": "ins_env",
   "language": "python",
   "name": "ins_env"
  },
  "language_info": {
   "codemirror_mode": {
    "name": "ipython",
    "version": 3
   },
   "file_extension": ".py",
   "mimetype": "text/x-python",
   "name": "python",
   "nbconvert_exporter": "python",
   "pygments_lexer": "ipython3",
   "version": "3.7.7"
  }
 },
 "nbformat": 4,
 "nbformat_minor": 4
}
