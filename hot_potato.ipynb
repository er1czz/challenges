{
 "cells": [
  {
   "cell_type": "markdown",
   "metadata": {},
   "source": [
    "# Hot Potato Problem\n",
    "\n",
    "- Implement with a queue by popping and re-enqueuing it"
   ]
  },
  {
   "cell_type": "code",
   "execution_count": 34,
   "metadata": {},
   "outputs": [],
   "source": [
    "def tater (a, skip):\n",
    "    # If not already a queue\n",
    "    # Can be tricky, need to know if the input is raw\n",
    "    # i.e. one at a time, or in columns/rows\n",
    "    q = []\n",
    "    for name in a:\n",
    "        q.insert(0,name)\n",
    "    \n",
    "    # If input is already in a queue\n",
    "    while len(q) > 1:\n",
    "        for i in range(skip):\n",
    "            # Pop the current person and put them at the front\n",
    "            q.insert(0,q.pop()) \n",
    "        # Last one just pops, doesn't get re-queued\n",
    "        q.pop()\n",
    "    return q.pop()\n",
    "        "
   ]
  },
  {
   "cell_type": "code",
   "execution_count": 36,
   "metadata": {},
   "outputs": [
    {
     "data": {
      "text/plain": [
       "'Susan'"
      ]
     },
     "execution_count": 36,
     "metadata": {},
     "output_type": "execute_result"
    }
   ],
   "source": [
    "# In this example a is just a list\n",
    "# It needs to be converted to a queue for the problem\n",
    "# Clarify this with an interviewer\n",
    "a = [\"Bill\",\"David\",\"Susan\",\"Jane\",\"Kent\",\"Brad\"]\n",
    "skip = 7\n",
    "tater (a, skip)"
   ]
  },
  {
   "cell_type": "code",
   "execution_count": null,
   "metadata": {},
   "outputs": [],
   "source": []
  }
 ],
 "metadata": {
  "kernelspec": {
   "display_name": "ins_env",
   "language": "python",
   "name": "ins_env"
  },
  "language_info": {
   "codemirror_mode": {
    "name": "ipython",
    "version": 3
   },
   "file_extension": ".py",
   "mimetype": "text/x-python",
   "name": "python",
   "nbconvert_exporter": "python",
   "pygments_lexer": "ipython3",
   "version": "3.7.7"
  }
 },
 "nbformat": 4,
 "nbformat_minor": 4
}
