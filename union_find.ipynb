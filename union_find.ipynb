{
 "cells": [
  {
   "cell_type": "markdown",
   "metadata": {},
   "source": [
    "# Union Find / Dynamic Connectivity problem\n",
    "\n",
    "https://medium.com/@lifei.8886196/a-detailed-study-on-union-find-data-structure-from-analysis-to-optimization-with-three-19e74470dbbc"
   ]
  },
  {
   "cell_type": "markdown",
   "metadata": {},
   "source": [
    "## Example problem:\n",
    "\n",
    "- Assume we have a set of villages in map, and there is no way between any two villages at initial, which means each village is isolated from other villages. We give the definition of “village a is connected to village b” for this problem as follow:\n",
    "- If village a is connected to village b, then village b is also connected to village a. That means a connection is symmetric.\n",
    "- If village a is connected to village b, and village b is connected to village c, then we say that village a is also connected to village c. That means a connection is transitive.\n",
    "- Each time, we can build a road to connect any two villages if they are not connected. Based on this situation, it comes with a few problems to be resolved:\n",
    "- We want to know how many disjoint components exist after some conecting operations.\n",
    "- We want to know which village belongs to which disjoint component efficiently.\n",
    "- Given any two villages, we need to know if they are connected.\n",
    "- Given any two villages, we need to be able to connect them if they are not connected."
   ]
  },
  {
   "cell_type": "markdown",
   "metadata": {},
   "source": [
    "#### Function to return the component count at any given time"
   ]
  },
  {
   "cell_type": "code",
   "execution_count": 2,
   "metadata": {},
   "outputs": [],
   "source": [
    "def get_count():\n",
    "    return component_count"
   ]
  },
  {
   "cell_type": "markdown",
   "metadata": {},
   "source": [
    "#### Function to return the root of an index"
   ]
  },
  {
   "cell_type": "code",
   "execution_count": 4,
   "metadata": {},
   "outputs": [],
   "source": [
    "def get_root(i):\n",
    "    while i != a[i]: # i is not a root\n",
    "        # Path Compression flattens the tree\n",
    "        # This hack cuts the time complexity to O(n log (base2) n)\n",
    "        a[i] = a[a[i]] # Make every other node's root the grandparent node\n",
    "        i = a[i] # Set the current index to the grandparent node\n",
    "    return a[i]"
   ]
  },
  {
   "cell_type": "markdown",
   "metadata": {},
   "source": [
    "#### Function to determine whether or not two indices are connected"
   ]
  },
  {
   "cell_type": "code",
   "execution_count": 16,
   "metadata": {},
   "outputs": [],
   "source": [
    "def is_connected (p,q):\n",
    "    if get_root(p) == get_root(q):\n",
    "        return True\n",
    "    else:\n",
    "        return False"
   ]
  },
  {
   "cell_type": "markdown",
   "metadata": {},
   "source": [
    "#### Function to join two indices"
   ]
  },
  {
   "cell_type": "code",
   "execution_count": 19,
   "metadata": {},
   "outputs": [],
   "source": [
    "def weighted_quick_union (p, q):\n",
    "    p_component = get_root(p)\n",
    "    q_component = get_root(q)\n",
    "    \n",
    "    if p_component == q_component:\n",
    "        return\n",
    "    if (sizes[p_component] > sizes[q_component]):\n",
    "        a[p_component] = q_component\n",
    "        sizes [q_component] += sizes[p_component]\n",
    "    else: \n",
    "        a[q_component] = p_component\n",
    "        sizes [p_component] += sizes [q_component]\n",
    "    component_count -= 1"
   ]
  },
  {
   "cell_type": "markdown",
   "metadata": {},
   "source": [
    "#### Function to disjoin two indices"
   ]
  },
  {
   "cell_type": "code",
   "execution_count": null,
   "metadata": {},
   "outputs": [],
   "source": [
    "def disjoin (p,q):\n",
    "    p_component = get_root(p)\n",
    "    q_component = get_root(q)\n",
    "    \n",
    "    if p_component == q_component:\n",
    "        return\n",
    "    # Remove one node, the grandparent node becomes the parent node\n",
    "    # The grandparent of each node must be shifted up by 1\n",
    "    for j in range (i + 1, len(n)):\n",
    "    g = current_node - 2\n",
    "    \n",
    "        "
   ]
  },
  {
   "cell_type": "markdown",
   "metadata": {},
   "source": [
    "#### Function to remove a node "
   ]
  },
  {
   "cell_type": "code",
   "execution_count": null,
   "metadata": {},
   "outputs": [],
   "source": []
  },
  {
   "cell_type": "markdown",
   "metadata": {},
   "source": [
    "#### Constructor"
   ]
  },
  {
   "cell_type": "code",
   "execution_count": 11,
   "metadata": {},
   "outputs": [],
   "source": [
    "a = [0,1,2,3,4,5,6,7,8,9]\n",
    "component_count = len(a)\n",
    "union_steps = [(4,3), (3,8), (6,5), (9,4),\n",
    "              (2,1), (5,0)]\n",
    "\n",
    "# Initialize a second array that holds the component sizes\n",
    "# Same length as a, but each starts off as an independent component of size = 1\n",
    "sizes = []\n",
    "for i in range (len(a)):\n",
    "    sizes.append(1)\n",
    "\n",
    "\n"
   ]
  },
  {
   "cell_type": "code",
   "execution_count": 12,
   "metadata": {},
   "outputs": [
    {
     "name": "stdout",
     "output_type": "stream",
     "text": [
      "10\n"
     ]
    }
   ],
   "source": [
    "print(get_count())"
   ]
  },
  {
   "cell_type": "code",
   "execution_count": 14,
   "metadata": {},
   "outputs": [
    {
     "name": "stdout",
     "output_type": "stream",
     "text": [
      "1\n"
     ]
    }
   ],
   "source": [
    "print(get_root(1))"
   ]
  },
  {
   "cell_type": "code",
   "execution_count": 17,
   "metadata": {},
   "outputs": [
    {
     "name": "stdout",
     "output_type": "stream",
     "text": [
      "False\n"
     ]
    }
   ],
   "source": [
    "print(is_connected (1,2))"
   ]
  },
  {
   "cell_type": "code",
   "execution_count": 22,
   "metadata": {},
   "outputs": [
    {
     "name": "stdout",
     "output_type": "stream",
     "text": [
      "10\n",
      "[0, 1, 2, 4, 4, 5, 6, 7, 8, 9]\n"
     ]
    }
   ],
   "source": [
    "weighted_quick_union(4,3)\n",
    "print(get_count())\n",
    "print(a)"
   ]
  },
  {
   "cell_type": "code",
   "execution_count": null,
   "metadata": {},
   "outputs": [],
   "source": []
  }
 ],
 "metadata": {
  "kernelspec": {
   "display_name": "ins_env",
   "language": "python",
   "name": "ins_env"
  },
  "language_info": {
   "codemirror_mode": {
    "name": "ipython",
    "version": 3
   },
   "file_extension": ".py",
   "mimetype": "text/x-python",
   "name": "python",
   "nbconvert_exporter": "python",
   "pygments_lexer": "ipython3",
   "version": "3.7.7"
  }
 },
 "nbformat": 4,
 "nbformat_minor": 4
}
