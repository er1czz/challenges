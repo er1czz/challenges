{
 "cells": [
  {
   "cell_type": "markdown",
   "metadata": {},
   "source": [
    "# Recursion Turtle Makes a Tree"
   ]
  },
  {
   "cell_type": "code",
   "execution_count": 1,
   "metadata": {},
   "outputs": [],
   "source": [
    "import turtle"
   ]
  },
  {
   "cell_type": "code",
   "execution_count": 2,
   "metadata": {},
   "outputs": [],
   "source": [
    "def turtle_time (n, t, b, c):\n",
    "    \"\"\"Takes an integer whose length will be divided by 5 each iteration.\"\"\"\n",
    "   \n",
    "    # Base case to exit recursion\n",
    "    if n > b:\n",
    "        t.forward(n) # Move to the top for maximum branch length\n",
    "        t.right (20) # Rotate him 20 degrees to the right\n",
    "        turtle_time(n-b, t, b, 'firebrick')\n",
    "        t.left (40)\n",
    "        t.color(c)\n",
    "        turtle_time (n-b,t,b, 'orange')\n",
    "        t.right (20)\n",
    "        t.backward (n)\n",
    "        "
   ]
  },
  {
   "cell_type": "code",
   "execution_count": 3,
   "metadata": {},
   "outputs": [],
   "source": [
    "def main ():\n",
    "    t = turtle.Turtle()\n",
    "    w = turtle.Screen()\n",
    "    n = 50 # Branch length\n",
    "    b = 5  # Shortest branch (base case)\n",
    "    c = 'dimgray' # line color\n",
    "    \n",
    "    # Turtle starts in the middle facing right\n",
    "    t.up ()        # Keeps his tail up (no line)\n",
    "    t.backward (100) # Moves him to the left\n",
    "    t.left(90)       # Puts him facing to the top, arg is degrees\n",
    "    t.backward(100)  # Moves him to the bottom, arg is length\n",
    "    t.down()         # Puts his tail down (will draw line)\n",
    "    t.color('dimgray')  # Line color is blue\n",
    "    turtle_time(n, t, b, c) # Do turtle stuff\n",
    "    w.exitonclick()  # Allows you to click the window closed"
   ]
  },
  {
   "cell_type": "code",
   "execution_count": null,
   "metadata": {
    "scrolled": false
   },
   "outputs": [],
   "source": [
    "main()"
   ]
  },
  {
   "cell_type": "code",
   "execution_count": null,
   "metadata": {},
   "outputs": [],
   "source": []
  }
 ],
 "metadata": {
  "kernelspec": {
   "display_name": "ins_env",
   "language": "python",
   "name": "ins_env"
  },
  "language_info": {
   "codemirror_mode": {
    "name": "ipython",
    "version": 3
   },
   "file_extension": ".py",
   "mimetype": "text/x-python",
   "name": "python",
   "nbconvert_exporter": "python",
   "pygments_lexer": "ipython3",
   "version": "3.7.7"
  }
 },
 "nbformat": 4,
 "nbformat_minor": 4
}
