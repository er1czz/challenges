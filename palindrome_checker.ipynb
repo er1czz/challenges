{
 "cells": [
  {
   "cell_type": "markdown",
   "metadata": {},
   "source": [
    "# Palindrome Checker"
   ]
  },
  {
   "cell_type": "markdown",
   "metadata": {},
   "source": [
    "- Key is to use a deque to store a string\n",
    "- process the string from left to right \n",
    "- add each character to the rear of the deque like a queue\n",
    "- front char holds the first char of the string, rear holds the last\n",
    "- compare them and continue only if they match"
   ]
  },
  {
   "cell_type": "code",
   "execution_count": 6,
   "metadata": {},
   "outputs": [],
   "source": [
    "def isPalindrome(s):\n",
    "    d = []\n",
    "    for c in s:\n",
    "        d.insert(0,c) # Construct the deque like a queue\n",
    "        \n",
    "    equal = True\n",
    "    \n",
    "    while len(d) > 1 and equal:\n",
    "        first = d.pop()\n",
    "        last = d.pop(0)\n",
    "        \n",
    "        if first != last:\n",
    "            equal = False\n",
    "    \n",
    "    return equal\n",
    "        "
   ]
  },
  {
   "cell_type": "code",
   "execution_count": 8,
   "metadata": {},
   "outputs": [
    {
     "name": "stdout",
     "output_type": "stream",
     "text": [
      "False\n"
     ]
    }
   ],
   "source": [
    "s = 'tacocap'\n",
    "print(isPalindrome(s))"
   ]
  },
  {
   "cell_type": "code",
   "execution_count": null,
   "metadata": {},
   "outputs": [],
   "source": []
  }
 ],
 "metadata": {
  "kernelspec": {
   "display_name": "ins_env",
   "language": "python",
   "name": "ins_env"
  },
  "language_info": {
   "codemirror_mode": {
    "name": "ipython",
    "version": 3
   },
   "file_extension": ".py",
   "mimetype": "text/x-python",
   "name": "python",
   "nbconvert_exporter": "python",
   "pygments_lexer": "ipython3",
   "version": "3.7.7"
  }
 },
 "nbformat": 4,
 "nbformat_minor": 4
}
